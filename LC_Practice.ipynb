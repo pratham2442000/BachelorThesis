{
 "cells": [
  {
   "cell_type": "code",
   "execution_count": 14,
   "metadata": {
    "collapsed": true,
    "ExecuteTime": {
     "start_time": "2023-11-20T16:30:29.870870Z",
     "end_time": "2023-11-20T16:30:29.970952Z"
    }
   },
   "outputs": [],
   "source": [
    "import numpy as np\n",
    "from sklearn.model_selection import train_test_split\n",
    "from sklearn.svm import SVC\n",
    "from sklearn import datasets\n",
    "from sklearn import metrics\n",
    "from sklearn.linear_model import SGDClassifier\n",
    "from sklearn import metrics\n",
    "from sklearn.preprocessing import StandardScaler\n",
    "from sklearn.pipeline import make_pipeline\n",
    "import"
   ]
  },
  {
   "cell_type": "code",
   "execution_count": 15,
   "outputs": [
    {
     "name": "stderr",
     "output_type": "stream",
     "text": [
      "/home/prat/miniconda3/envs/rp/lib/python3.12/site-packages/sklearn/datasets/_openml.py:1022: FutureWarning: The default value of `parser` will change from `'liac-arff'` to `'auto'` in 1.4. You can set `parser='auto'` to silence this warning. Therefore, an `ImportError` will be raised from 1.4 if the dataset is dense and pandas is not installed. Note that the pandas parser may return different data types. See the Notes Section in fetch_openml's API doc for details.\n",
      "  warn(\n"
     ]
    }
   ],
   "source": [
    "mnist = datasets.fetch_openml('mnist_784')\n",
    "X = np.array(mnist.data.astype('float32'))\n",
    "y = np.array(mnist.target.astype('int'))\n",
    "\n",
    "# Split the data into training and testing sets\n",
    "X_train, X_test, y_train, y_test = train_test_split(X, y, test_size=0.2, random_state=42)\n",
    "\n",
    "# Normalize the pixel values to the range [0, 1]\n",
    "X_train /= 255.0\n",
    "X_test /= 255.0"
   ],
   "metadata": {
    "collapsed": false,
    "ExecuteTime": {
     "start_time": "2023-11-20T16:30:30.009679Z",
     "end_time": "2023-11-20T16:31:44.982589Z"
    }
   }
  },
  {
   "cell_type": "code",
   "execution_count": 16,
   "outputs": [],
   "source": [
    "def train_sgd(X_train, X_test, y_train, y_test):\n",
    "    # Create an SGDClassifier with a pipeline for scaling and classification\n",
    "    sgd_classifier = make_pipeline(StandardScaler(), SGDClassifier(max_iter=500, tol=1e-3))\n",
    "\n",
    "    # Train the classifier on the training data\n",
    "    sgd_classifier.fit(X_train, y_train)\n",
    "\n",
    "    # Make predictions on the test set\n",
    "    y_pred = sgd_classifier.predict(X_test)\n",
    "\n",
    "    # Evaluate the model\n",
    "    accuracy = metrics.accuracy_score(y_test, y_pred)\n",
    "    print(f\"Accuracy: {accuracy:.2%}\")\n",
    "\n",
    "    # Print a classification report\n",
    "    print(metrics.classification_report(y_test, y_pred))\n",
    "    return accuracy"
   ],
   "metadata": {
    "collapsed": false,
    "ExecuteTime": {
     "start_time": "2023-11-20T16:30:29.600851Z",
     "end_time": "2023-11-20T16:31:44.994152Z"
    }
   }
  },
  {
   "cell_type": "code",
   "execution_count": 17,
   "outputs": [],
   "source": [
    "from sklearn.utils import shuffle\n",
    "\n",
    "# Separate data by classes in the training set\n",
    "classes = np.unique(y_train)\n",
    "class_data = {cls: X_train[y_train == cls] for cls in classes}\n",
    "\n",
    "\n",
    "def reduce_data(x_percent):\n",
    "    # Randomly sample x% from each class\n",
    "    sampled_data = {cls: class_data[cls][np.random.choice(class_data[cls].shape[0], int(x_percent * class_data[cls].shape[0]), replace=False)] for cls in classes}\n",
    "\n",
    "    # Combine sampled data\n",
    "    new_X_train = np.concatenate(list(sampled_data.values()), axis=0)\n",
    "    new_y_train = np.concatenate([np.full_like(sampled_data[cls][:, 0], cls) for cls in classes])\n",
    "\n",
    "    # Shuffle the new training set\n",
    "    new_X_train, new_y_train = shuffle(new_X_train, new_y_train, random_state=42)\n",
    "\n",
    "    return new_X_train, new_y_train\n",
    "\n",
    "\n",
    "\n",
    "list_of_percentages = [i/10 for i in range(1, 11)]\n",
    "list_of_train_y_set = [(x,y) for x,y in [reduce_data(i) for i in list_of_percentages]]"
   ],
   "metadata": {
    "collapsed": false,
    "ExecuteTime": {
     "start_time": "2023-11-20T16:31:45.001671Z",
     "end_time": "2023-11-20T16:31:58.353579Z"
    }
   }
  },
  {
   "cell_type": "code",
   "execution_count": null,
   "outputs": [
    {
     "name": "stdout",
     "output_type": "stream",
     "text": [
      "Training SVM with different training set sizes...\n"
     ]
    },
    {
     "name": "stderr",
     "output_type": "stream",
     "text": [
      "/home/prat/miniconda3/envs/rp/lib/python3.12/site-packages/sklearn/linear_model/_stochastic_gradient.py:713: ConvergenceWarning: Maximum number of iteration reached before convergence. Consider increasing max_iter to improve the fit.\n",
      "  warnings.warn(\n"
     ]
    },
    {
     "name": "stdout",
     "output_type": "stream",
     "text": [
      "Accuracy: 89.22%\n",
      "              precision    recall  f1-score   support\n",
      "\n",
      "           0       0.95      0.94      0.95      1343\n",
      "           1       0.96      0.95      0.95      1600\n",
      "           2       0.88      0.89      0.88      1380\n",
      "           3       0.86      0.86      0.86      1433\n",
      "           4       0.90      0.89      0.89      1295\n",
      "           5       0.83      0.86      0.85      1273\n",
      "           6       0.94      0.94      0.94      1396\n",
      "           7       0.92      0.89      0.90      1503\n",
      "           8       0.85      0.83      0.84      1357\n",
      "           9       0.83      0.86      0.85      1420\n",
      "\n",
      "    accuracy                           0.89     14000\n",
      "   macro avg       0.89      0.89      0.89     14000\n",
      "weighted avg       0.89      0.89      0.89     14000\n",
      "\n"
     ]
    },
    {
     "name": "stderr",
     "output_type": "stream",
     "text": [
      "/home/prat/miniconda3/envs/rp/lib/python3.12/site-packages/sklearn/linear_model/_stochastic_gradient.py:713: ConvergenceWarning: Maximum number of iteration reached before convergence. Consider increasing max_iter to improve the fit.\n",
      "  warnings.warn(\n"
     ]
    },
    {
     "name": "stdout",
     "output_type": "stream",
     "text": [
      "Accuracy: 90.38%\n",
      "              precision    recall  f1-score   support\n",
      "\n",
      "           0       0.97      0.95      0.96      1343\n",
      "           1       0.95      0.96      0.96      1600\n",
      "           2       0.90      0.88      0.89      1380\n",
      "           3       0.90      0.87      0.88      1433\n",
      "           4       0.92      0.90      0.91      1295\n",
      "           5       0.85      0.85      0.85      1273\n",
      "           6       0.93      0.94      0.94      1396\n",
      "           7       0.93      0.92      0.92      1503\n",
      "           8       0.81      0.88      0.84      1357\n",
      "           9       0.87      0.87      0.87      1420\n",
      "\n",
      "    accuracy                           0.90     14000\n",
      "   macro avg       0.90      0.90      0.90     14000\n",
      "weighted avg       0.90      0.90      0.90     14000\n",
      "\n"
     ]
    }
   ],
   "source": [
    "print(\"Training SVM with different training set sizes...\")\n",
    "l =  [[train_sgd(X_train, X_test, y_train, y_test) for X_train, y_train in list_of_train_y_set] for i in range(10)]"
   ],
   "metadata": {
    "collapsed": false,
    "ExecuteTime": {
     "start_time": "2023-11-19T23:52:57.883169Z",
     "end_time": "2023-11-20T02:29:16.224561Z"
    }
   }
  },
  {
   "cell_type": "code",
   "execution_count": null,
   "outputs": [],
   "source": [],
   "metadata": {
    "collapsed": false,
    "ExecuteTime": {
     "start_time": "2023-11-20T14:11:05.077752Z",
     "end_time": "2023-11-20T14:11:05.458768Z"
    }
   }
  },
  {
   "cell_type": "code",
   "execution_count": null,
   "outputs": [],
   "source": [
    "# Plot the results\n",
    "import matplotlib.pyplot as plt\n",
    "plt.figure(figsize=(10, 6))\n",
    "for i in l:\n",
    "    plt.scatter(list_of_percentages, i)\n",
    "plt.show()\n"
   ],
   "metadata": {
    "collapsed": false,
    "ExecuteTime": {
     "start_time": "2023-11-20T14:17:15.127334Z",
     "end_time": "2023-11-20T14:17:15.298141Z"
    }
   }
  }
 ],
 "metadata": {
  "kernelspec": {
   "display_name": "Python 3",
   "language": "python",
   "name": "python3"
  },
  "language_info": {
   "codemirror_mode": {
    "name": "ipython",
    "version": 2
   },
   "file_extension": ".py",
   "mimetype": "text/x-python",
   "name": "python",
   "nbconvert_exporter": "python",
   "pygments_lexer": "ipython2",
   "version": "2.7.6"
  }
 },
 "nbformat": 4,
 "nbformat_minor": 0
}
