{
 "cells": [
  {
   "cell_type": "code",
   "execution_count": 26,
   "metadata": {
    "ExecuteTime": {
     "start_time": "2024-01-08T12:03:02.034788Z",
     "end_time": "2024-01-08T12:03:03.849801Z"
    }
   },
   "outputs": [
    {
     "name": "stdout",
     "output_type": "stream",
     "text": [
      "None\n"
     ]
    }
   ],
   "source": [
    "import numpy as np\n",
    "import pandas as pd\n",
    "import torch\n",
    "from matplotlib import pyplot as plt\n",
    "from sklearn.metrics import r2_score\n",
    "\n",
    "#mean squared error, mean absolute error, and coefficient of determination\n",
    "import lcpfn.lcpfn as lcpfn\n",
    "\n",
    "path_test = '/mnt/c/Users/prath/PycharmProjects/rp/LCDB_localised/test_curves.pkl'\n",
    "df_test = pd.read_pickle(path_test)\n",
    "\n",
    "path_all = '/mnt/c/Users/prath/PycharmProjects/rp/LCDB_localised/all_curves_preprocessed.pkl'\n",
    "df_all = pd.read_pickle(path_all)\n",
    "\n",
    "# model_name = '/mnt/c/Users/prath/PycharmProjects/rp/Data/model_lcdb_2.pt'\n",
    "model_name = None\n",
    "if model_name is None:\n",
    "    model = lcpfn.LCPFN()\n",
    "else:\n",
    "    model = lcpfn.LCPFN(model_name=model_name)\n",
    "print(model_name)"
   ]
  },
  {
   "cell_type": "code",
   "execution_count": 27,
   "outputs": [],
   "source": [
    "#Variables\n",
    "cut_off = 30"
   ],
   "metadata": {
    "collapsed": false,
    "ExecuteTime": {
     "start_time": "2024-01-08T12:03:03.849801Z",
     "end_time": "2024-01-08T12:03:03.855812Z"
    }
   }
  },
  {
   "cell_type": "code",
   "execution_count": 28,
   "metadata": {
    "collapsed": false,
    "jupyter": {
     "outputs_hidden": false
    },
    "ExecuteTime": {
     "start_time": "2024-01-08T12:03:03.866997Z",
     "end_time": "2024-01-08T12:03:03.899462Z"
    }
   },
   "outputs": [],
   "source": [
    "def get_validation_curve(i:int):\n",
    "    \"\"\"Retrieve the validation curve for a given model and dataset.\"\"\"\n",
    "    row = df_all.iloc[i]\n",
    "    openlid = row['openmlid']\n",
    "    learner = row['learner']\n",
    "    anchors = row['anchors']\n",
    "    means = row['means']\n",
    "    std = row['std']\n",
    "    return anchors, means, std, openlid, learner\n",
    "\n",
    "def get_closest_index(lst, target):\n",
    "    return min(range(len(lst)), key=lambda i: abs(lst[i] - target))\n",
    "\n",
    "def get_common_data(cutoff, extend, anchors, means, ):\n",
    "\n",
    "    means = np.array(means)\n",
    "    anchors = np.array(anchors)\n",
    "    anchors = ((anchors - np.min(anchors)) / (np.max(anchors) - np.min(anchors))) * 100\n",
    "\n",
    "    cutoff_index = get_closest_index(anchors, cutoff)\n",
    "    curve = np.array(means[:cutoff_index])\n",
    "    anchors = anchors.astype(int)\n",
    "\n",
    "    add_anchor = np.arange(anchors[-1], extend, 10)\n",
    "    a = np.concatenate((anchors, add_anchor))\n",
    "    x = torch.from_numpy(a).unsqueeze(1)\n",
    "    y = torch.from_numpy(curve).float().unsqueeze(1)\n",
    "\n",
    "    return x, y, anchors, means, cutoff_index\n",
    "\n",
    "def get_mse(model, anchors, means, cutoff=10, extend=100, plot=False):\n",
    "    x, y, anchors, means, cutoff_index = get_common_data(cutoff, extend, anchors, means, )\n",
    "\n",
    "    predictions = model.predict_quantiles(x_train=x[:cutoff_index], y_train=y, x_test=x[cutoff_index:], qs=[0.05, 0.5, 0.95])\n",
    "\n",
    "    if plot:\n",
    "        plot_it(anchors, means, predictions, cutoff_index, x)\n",
    "\n",
    "    predictions = predictions.detach().numpy()\n",
    "    mse_lcfpn = np.mean((predictions[:len(anchors) - cutoff_index, 1] - means[cutoff_index:]) ** 2)\n",
    "    mse_l1 = np.mean((predictions[:len(anchors)-cutoff_index, 1] - means[-1])**2)\n",
    "    #TODO mse_mff4 = get the curve fitting code form the supervisors\n",
    "    return mse_lcfpn#, mse_l1 #, mse_mff4\n",
    "\n",
    "\n",
    "def get_mae(model, anchors, means ,cutoff=10, extend=100, plot=False):\n",
    "    x, y, anchors, means, cutoff_index = get_common_data(cutoff, extend, anchors, means,)\n",
    "\n",
    "    predictions = model.predict_quantiles(x_train=x[:cutoff_index], y_train=y, x_test=x[cutoff_index:], qs=[0.05, 0.5, 0.95])\n",
    "\n",
    "    if plot:\n",
    "        plot_it(anchors, means, predictions, cutoff_index, x)\n",
    "\n",
    "    predictions = predictions.detach().numpy()\n",
    "    return np.mean(np.abs(predictions[:len(anchors) - cutoff_index, 1] - means[cutoff_index:]))\n",
    "\n",
    "\n",
    "def plot_it(anchors, means, predictions, cutoff_index, x):\n",
    "    plt.plot(anchors, means, \"*\", label=\"target\")\n",
    "    plt.plot(anchors, means, label=\"target\")\n",
    "    plt.plot(x[cutoff_index:], predictions[:, 1], \"r*\", label=\"Extrapolation by PFN\")\n",
    "    plt.fill_between(\n",
    "        x[cutoff_index:].flatten(), predictions[:, 0], predictions[:, 2], color=\"blue\", alpha=0.2, label=\"CI of 90%\"\n",
    "    )\n",
    "    plt.vlines(x[cutoff_index], 0, 1, linewidth=0.5, color=\"k\", label=\"cutoff\")\n",
    "    plt.ylim(0, 1)\n",
    "    plt.legend(loc=\"lower right\")\n",
    "    plt.savefig(\"/mnt/c/Users/prath/PycharmProjects/rp/Data/extrapolation.png\")\n",
    "    plt.show()\n",
    "\n",
    "\n"
   ]
  },
  {
   "cell_type": "code",
   "execution_count": 29,
   "outputs": [
    {
     "name": "stdout",
     "output_type": "stream",
     "text": [
      "44 SVC_poly\n"
     ]
    },
    {
     "data": {
      "text/plain": "<Figure size 640x480 with 1 Axes>",
      "image/png": "[encoded data removed]"
     },
     "metadata": {},
     "output_type": "display_data"
    },
    {
     "name": "stdout",
     "output_type": "stream",
     "text": [
      "1.1317016583838585e-05\n",
      "0.003217058407783552\n"
     ]
    }
   ],
   "source": [
    "anchors, means, std, openlid, learner = get_validation_curve(1)\n",
    "print(openlid, learner)\n",
    "print(get_mse(model, anchors, means, cutoff=cut_off, plot=True))\n",
    "print(get_mae(model, anchors, means, cutoff=cut_off))"
   ],
   "metadata": {
    "collapsed": false,
    "ExecuteTime": {
     "start_time": "2024-01-08T12:03:03.877933Z",
     "end_time": "2024-01-08T12:03:04.511051Z"
    }
   }
  },
  {
   "cell_type": "code",
   "execution_count": 30,
   "outputs": [
    {
     "name": "stdout",
     "output_type": "stream",
     "text": [
      "1\r"
     ]
    },
    {
     "ename": "TypeError",
     "evalue": "get_validation_curve() missing 1 required positional argument: 'i'",
     "output_type": "error",
     "traceback": [
      "\u001B[0;31m---------------------------------------------------------------------------\u001B[0m",
      "\u001B[0;31mTypeError\u001B[0m                                 Traceback (most recent call last)",
      "Cell \u001B[0;32mIn[30], line 6\u001B[0m\n\u001B[1;32m      4\u001B[0m \u001B[38;5;28;01mfor\u001B[39;00m i \u001B[38;5;129;01min\u001B[39;00m \u001B[38;5;28mrange\u001B[39m(\u001B[38;5;241m100\u001B[39m):\n\u001B[1;32m      5\u001B[0m     \u001B[38;5;28mprint\u001B[39m(i\u001B[38;5;241m+\u001B[39m\u001B[38;5;241m1\u001B[39m, end\u001B[38;5;241m=\u001B[39m\u001B[38;5;124m'\u001B[39m\u001B[38;5;130;01m\\r\u001B[39;00m\u001B[38;5;124m'\u001B[39m)\n\u001B[0;32m----> 6\u001B[0m     anchors, means, std, openlid, learner \u001B[38;5;241m=\u001B[39m \u001B[43mget_validation_curve\u001B[49m\u001B[43m(\u001B[49m\u001B[43m)\u001B[49m\n\u001B[1;32m      7\u001B[0m     performance\u001B[38;5;241m.\u001B[39mappend([get_mse(model, anchors, means), get_mae(model, anchors, means)])\n\u001B[1;32m      8\u001B[0m     performance_lable\u001B[38;5;241m.\u001B[39mappend(\u001B[38;5;28mstr\u001B[39m(\u001B[38;5;28mint\u001B[39m(openlid)) \u001B[38;5;241m+\u001B[39m \u001B[38;5;124m'\u001B[39m\u001B[38;5;124m_\u001B[39m\u001B[38;5;124m'\u001B[39m \u001B[38;5;241m+\u001B[39m learner)\n",
      "\u001B[0;31mTypeError\u001B[0m: get_validation_curve() missing 1 required positional argument: 'i'"
     ]
    }
   ],
   "source": [
    "performance  = []\n",
    "performance_lable  = []\n",
    "\n",
    "for i in range(100):\n",
    "    print(i+1, end='\\r')\n",
    "    anchors, means, std, openlid, learner = get_validation_curve()\n",
    "    performance.append([get_mse(model, anchors, means), get_mae(model, anchors, means)])\n",
    "    performance_lable.append(str(int(openlid)) + '_' + learner)\n",
    "\n",
    "performance  = np.array(performance)"
   ],
   "metadata": {
    "collapsed": false,
    "ExecuteTime": {
     "start_time": "2024-01-08T11:15:49.925110Z",
     "end_time": "2024-01-08T11:15:55.828316Z"
    }
   }
  },
  {
   "cell_type": "code",
   "execution_count": null,
   "outputs": [],
   "source": [
    "# Print the results in a clear format\n",
    "df = pd.DataFrame(performance, columns=['mse', 'mae'])\n",
    "print(df.describe())"
   ],
   "metadata": {
    "collapsed": false,
    "ExecuteTime": {
     "start_time": "2024-01-08T11:16:01.402991Z",
     "end_time": "2024-01-08T11:16:01.475393Z"
    }
   }
  }
 ],
 "metadata": {
  "kernelspec": {
   "display_name": "Python 3 (ipykernel)",
   "language": "python",
   "name": "python3"
  },
  "language_info": {
   "codemirror_mode": {
    "name": "ipython",
    "version": 3
   },
   "file_extension": ".py",
   "mimetype": "text/x-python",
   "name": "python",
   "nbconvert_exporter": "python",
   "pygments_lexer": "ipython3",
   "version": "3.9.18"
  }
 },
 "nbformat": 4,
 "nbformat_minor": 4
}
