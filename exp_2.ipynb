{
 "cells": [
  {
   "cell_type": "code",
   "execution_count": 3,
   "metadata": {
    "collapsed": true,
    "ExecuteTime": {
     "end_time": "2024-01-24T23:35:41.097513900Z",
     "start_time": "2024-01-24T23:35:38.556565700Z"
    }
   },
   "outputs": [
    {
     "name": "stdout",
     "output_type": "stream",
     "text": [
      "None\n"
     ]
    }
   ],
   "source": [
    "import numpy as np\n",
    "import pandas as pd\n",
    "import torch\n",
    "from matplotlib import pyplot as plt\n",
    "import matplotlib\n",
    "matplotlib.use(\"pgf\")\n",
    "matplotlib.rcParams.update({\n",
    "    \"pgf.texsystem\": \"pdflatex\",\n",
    "    'font.family': 'serif',\n",
    "    'text.usetex': True,\n",
    "    'pgf.rcfonts': False,\n",
    "})\n",
    "\n",
    "parameters = {\"axes.labelsize\": 20, \"legend.fontsize\": 16, \"xtick.labelsize\": 20, \"ytick.labelsize\": 20, \"lines.linewidth\": 2, \"lines.markersize\": 10}\n",
    "\n",
    "\n",
    "import lcpfn.lcpfn as lcpfn\n",
    "\n",
    "path_all = '/mnt/c/Users/prath/PycharmProjects/rp/LCDB_localised/all_curves_preprocessed.pkl'\n",
    "df_all = pd.read_pickle(path_all)\n",
    "\n",
    "# model_name = '/mnt/c/Users/prath/PycharmProjects/rp/Data/model_lcdb_2.pt'\n",
    "model_name = None\n",
    "if model_name is None:\n",
    "    model = lcpfn.LCPFN()\n",
    "else:\n",
    "    model = lcpfn.LCPFN(model_name=model_name)\n",
    "print(model_name)"
   ]
  },
  {
   "cell_type": "code",
   "execution_count": 30,
   "outputs": [],
   "source": [
    "#vairables\n",
    "CUTOFF = 10 #percentage of the curve use as input\n",
    "FAIL_PER = 60 #percentage of points that should be within the CI"
   ],
   "metadata": {
    "collapsed": false,
    "ExecuteTime": {
     "end_time": "2024-01-24T23:42:08.789151300Z",
     "start_time": "2024-01-24T23:42:08.776141900Z"
    }
   }
  },
  {
   "cell_type": "markdown",
   "source": [
    "## Check for which curves the lcpfn model is not able to predict"
   ],
   "metadata": {
    "collapsed": false
   }
  },
  {
   "cell_type": "code",
   "execution_count": 31,
   "outputs": [],
   "source": [
    "def get_curve(i:int):\n",
    "    \"\"\"Retrieve the curve for a given model and dataset.\"\"\"\n",
    "    row = df_all.iloc[i]\n",
    "    openlid = row['openmlid']\n",
    "    learner = row['learner']\n",
    "    anchors = row['anchors']\n",
    "    means = row['means']\n",
    "    std = row['std']\n",
    "    return anchors, means, std, openlid, learner\n",
    "\n",
    "def get_closest_index(lst, target):\n",
    "    return min(range(len(lst)), key=lambda i: abs(lst[i] - target))\n",
    "\n",
    "def get_common_data(cutoff, anchors, means, ):\n",
    "    means = np.array(means)\n",
    "    anchors = np.array(anchors)\n",
    "    anchors = ((anchors - np.min(anchors)) / (np.max(anchors) - np.min(anchors))) * 100\n",
    "\n",
    "    cutoff_index = get_closest_index(anchors, cutoff)\n",
    "    cutoff_index = cutoff_index + 1 if cutoff_index == 0 else cutoff_index\n",
    "    curve = np.array(means[:cutoff_index])\n",
    "    anchors = anchors.astype(int)\n",
    "\n",
    "    x = torch.from_numpy(anchors).unsqueeze(1)\n",
    "    y = torch.from_numpy(curve).float().unsqueeze(1)\n",
    "    return x, y, anchors, means, cutoff_index\n",
    "\n",
    "def plot_it(i, anchors, means, predictions, cutoff_index, x, learner):\n",
    "    plt.figure(figsize=(7.5, 7.5))\n",
    "    plt.tight_layout()\n",
    "\n",
    "    plt.plot(anchors, means, \"*\", label=\"target\")\n",
    "    plt.plot(anchors, means, label=\"target\")\n",
    "    plt.plot(x[cutoff_index:], predictions[:, 1], \"r*\", label=\"Extrapolation by PFN\")\n",
    "    plt.fill_between(\n",
    "        x[cutoff_index:].flatten(), predictions[:, 0], predictions[:, 2], color=\"red\", alpha=0.3, label=\"CI of 90%\"\n",
    "    )\n",
    "    plt.vlines(CUTOFF, 0, 1, linewidth=0.5, color=\"k\", label=\"cutoff\")\n",
    "    plt.ylim(0, 1)\n",
    "    plt.legend(loc=\"lower right\")\n",
    "    plt.savefig(\"/mnt/c/Users/prath/PycharmProjects/rp/Data/extrapolation_\"+str(i)+\"_\"+str(CUTOFF)+\".png\", dpi=400)\n",
    "    plt.show()"
   ],
   "metadata": {
    "collapsed": false,
    "ExecuteTime": {
     "end_time": "2024-01-24T23:42:09.382458300Z",
     "start_time": "2024-01-24T23:42:09.381450200Z"
    }
   }
  },
  {
   "cell_type": "code",
   "execution_count": 32,
   "outputs": [
    {
     "name": "stdout",
     "output_type": "stream",
     "text": [
      "3 44 SVC_sigmoid 3 7\n",
      "20 188 SVC_linear 0 8\n",
      "21 188 SVC_poly 2 8\n",
      "22 188 SVC_rbf 4 8\n"
     ]
    },
    {
     "name": "stderr",
     "output_type": "stream",
     "text": [
      "/tmp/ipykernel_968/1543993037.py:42: UserWarning: FigureCanvasPgf is non-interactive, and thus cannot be shown\n",
      "  plt.show()\n"
     ]
    }
   ],
   "source": [
    "curve_that_failed = []\n",
    "for i in range(len(df_all)):\n",
    "    print(str(i) + f'{len(df_all)}', end=\"\\r\")\n",
    "    a, m, std, openlid, learner = get_curve(i)\n",
    "    x, y, anchors, means, cutoff_index = get_common_data(CUTOFF, a, m)\n",
    "    predictions = model.predict_quantiles(x_train=x[:cutoff_index], y_train=y, x_test=x[cutoff_index:], qs=[0.05, 0.5, 0.95])\n",
    "    predictions = predictions.detach().numpy()\n",
    "    low_ci = predictions[:, 0]\n",
    "    high_ci = predictions[:, 2]\n",
    "\n",
    "    #check if the truth points are within the CI area\n",
    "    conditions = (means[cutoff_index:] >= low_ci) & (means[cutoff_index:] <= high_ci)\n",
    "    within_ci = np.where(conditions)[0]\n",
    "\n",
    "    #check if the points outside the CI area are above or below the CI\n",
    "    conditions_low = (means[cutoff_index:] < low_ci)\n",
    "    conditions_high = (means[cutoff_index:] > high_ci)\n",
    "    outside_ci_low = np.where(conditions_low)[0]\n",
    "    outside_ci_high = np.where(conditions_high)[0]\n",
    "\n",
    "    if len(within_ci) < FAIL_PER/100 * len(means[cutoff_index:]):\n",
    "        curve_that_failed.append((i, openlid, learner, len(within_ci), len(means[cutoff_index:]), len(outside_ci_low), len(outside_ci_high)))\n",
    "        print(i, openlid, learner, len(within_ci), len(means[cutoff_index:]))\n",
    "        if i == 23:\n",
    "            plot_it(i, anchors, means, predictions, cutoff_index, x, learner)\n",
    "            break"
   ],
   "metadata": {
    "collapsed": false,
    "ExecuteTime": {
     "end_time": "2024-01-24T23:42:12.207861Z",
     "start_time": "2024-01-24T23:42:10.451862200Z"
    }
   }
  },
  {
   "cell_type": "code",
   "execution_count": 33,
   "outputs": [
    {
     "name": "stderr",
     "output_type": "stream",
     "text": [
      "/tmp/ipykernel_968/1543993037.py:42: UserWarning: FigureCanvasPgf is non-interactive, and thus cannot be shown\n",
      "  plt.show()\n"
     ]
    }
   ],
   "source": [
    "i=23\n",
    "a, m, std, openlid, learner = get_curve(i)\n",
    "x, y, anchors, means, cutoff_index = get_common_data(CUTOFF, a, m)\n",
    "predictions = model.predict_quantiles(x_train=x[:cutoff_index], y_train=y, x_test=x[cutoff_index:], qs=[0.05, 0.5, 0.95])\n",
    "predictions = predictions.detach().numpy()\n",
    "plot_it(i, anchors, means, predictions, cutoff_index, x, learner)"
   ],
   "metadata": {
    "collapsed": false,
    "ExecuteTime": {
     "end_time": "2024-01-24T23:42:14.266527900Z",
     "start_time": "2024-01-24T23:42:12.925748200Z"
    }
   }
  },
  {
   "cell_type": "code",
   "execution_count": 63,
   "outputs": [
    {
     "name": "stdout",
     "output_type": "stream",
     "text": [
      "1255\n"
     ]
    }
   ],
   "source": [
    "print(len(curve_that_failed))\n",
    "df = pd.DataFrame(curve_that_failed, columns=['index', 'openmlid', 'learner', 'within_ci', 'total', 'outside_ci_low', 'outside_ci_high'])\n",
    "a = df['learner'].value_counts()\n",
    "b= df['openmlid'].value_counts()\n",
    "#save the failed curves count learner\n",
    "\n",
    "df.to_csv(f'/mnt/c/Users/prath/PycharmProjects/rp/Data/failed_curves_{CUTOFF}.csv')\n",
    "a.to_csv(f'/mnt/c/Users/prath/PycharmProjects/rp/Data/failed_curves_count_{CUTOFF}.csv')"
   ],
   "metadata": {
    "collapsed": false,
    "ExecuteTime": {
     "end_time": "2024-01-19T18:12:04.863093200Z",
     "start_time": "2024-01-19T18:12:04.808092700Z"
    }
   }
  },
  {
   "cell_type": "markdown",
   "source": [
    "# Plot the curves that failed"
   ],
   "metadata": {
    "collapsed": false
   }
  },
  {
   "cell_type": "code",
   "execution_count": null,
   "outputs": [],
   "source": [
    "plt.ylim(0, 1)\n",
    "for i in curve_that_failed:\n",
    "    a, m, std, openlid, learner = get_curve(i[0])\n",
    "    x, y, a_2, m_2, cutoff_index = get_common_data(CUTOFF, a, m)\n",
    "    plt.plot(a_2, m_2, label=\"target\", alpha=0.4)\n",
    "plt.show()"
   ],
   "metadata": {
    "collapsed": false
   }
  },
  {
   "cell_type": "code",
   "execution_count": null,
   "outputs": [],
   "source": [
    "#Analyse the failed curves"
   ],
   "metadata": {
    "collapsed": false
   }
  },
  {
   "cell_type": "code",
   "execution_count": 76,
   "outputs": [],
   "source": [
    "df_10 = pd.read_csv('/mnt/c/Users/prath/PycharmProjects/rp/Data/failed_curves_10.csv')\n",
    "df_20 = pd.read_csv('/mnt/c/Users/prath/PycharmProjects/rp/Data/failed_curves_20.csv')\n",
    "df_40 = pd.read_csv('/mnt/c/Users/prath/PycharmProjects/rp/Data/failed_curves_40.csv')\n",
    "df_80 = pd.read_csv('/mnt/c/Users/prath/PycharmProjects/rp/Data/failed_curves_80.csv')\n",
    "\n",
    "a = df['learner'].value_counts()\n",
    "a_10 = df_10['learner'].value_counts()\n",
    "b_10 = df_10['openmlid'].value_counts()\n",
    "\n",
    "a_20 = df_20['learner'].value_counts()\n",
    "b_20 = df_20['openmlid'].value_counts()\n",
    "\n",
    "a_40 = df_40['learner'].value_counts()\n",
    "b_40 = df_40['openmlid'].value_counts()\n",
    "\n",
    "a_80 = df_80['learner'].value_counts()\n",
    "b_80 = df_80['openmlid'].value_counts()\n",
    "\n",
    "\n",
    "b_10.to_csv(f'/mnt/c/Users/prath/PycharmProjects/rp/Data/failed_curves_d_count_10.csv')\n",
    "b_20.to_csv(f'/mnt/c/Users/prath/PycharmProjects/rp/Data/failed_curves_d_count_20.csv')\n",
    "b_40.to_csv(f'/mnt/c/Users/prath/PycharmProjects/rp/Data/failed_curves_d_count_40.csv')\n",
    "b_80.to_csv(f'/mnt/c/Users/prath/PycharmProjects/rp/Data/failed_curves_d_count_80.csv')\n",
    "\n",
    "\n"
   ],
   "metadata": {
    "collapsed": false,
    "ExecuteTime": {
     "end_time": "2024-01-19T18:50:03.547496400Z",
     "start_time": "2024-01-19T18:50:03.475930600Z"
    }
   }
  },
  {
   "cell_type": "code",
   "execution_count": 182,
   "outputs": [
    {
     "name": "stdout",
     "output_type": "stream",
     "text": [
      "266 158 1\n",
      "272 296 4\n",
      "406 557 23\n",
      "543 703 9\n",
      "425 572 986 1255\n"
     ]
    }
   ],
   "source": [
    "# print counts\n",
    "overestimate_10 = df_10[df_10['outside_ci_high'] > df_10['outside_ci_low']].index.tolist()\n",
    "underestimate_10 = df_10[df_10['outside_ci_high'] < df_10['outside_ci_low']].index.tolist()\n",
    "count_e_10 = df_10[df_10['outside_ci_high'] == df_10['outside_ci_low']].index.tolist()\n",
    "\n",
    "overestimate_20 = df_20[df_20['outside_ci_high'] > df_20['outside_ci_low']].index.tolist()\n",
    "underestimate_20 = df_20[df_20['outside_ci_high'] < df_20['outside_ci_low']].index.tolist()\n",
    "count_e_20 = df_20[df_20['outside_ci_high'] == df_20['outside_ci_low']].index.tolist()\n",
    "\n",
    "overestimate_40 = df_40[df_40['outside_ci_high'] > df_40['outside_ci_low']].index.tolist()\n",
    "underestimate_40 = df_40[df_40['outside_ci_high'] < df_40['outside_ci_low']].index.tolist()\n",
    "count_e_40 = df_40[df_40['outside_ci_high'] == df_40['outside_ci_low']].index.tolist()\n",
    "\n",
    "overestimate_80 = df_80[df_80['outside_ci_high'] > df_80['outside_ci_low']].index.tolist()\n",
    "underestimate_80 = df_80[df_80['outside_ci_high'] < df_80['outside_ci_low']].index.tolist()\n",
    "count_e_80 = df_80[df_80['outside_ci_high'] == df_80['outside_ci_low']].index.tolist()\n",
    "\n",
    "print(len(overestimate_10), len(underestimate_10), len(count_e_10))\n",
    "print(len(overestimate_20), len(underestimate_20), len(count_e_20))\n",
    "print(len(overestimate_40), len(underestimate_40), len(count_e_40))\n",
    "print(len(overestimate_80), len(underestimate_80), len(count_e_80))\n",
    "#print total\n",
    "print(len(df_10), len(df_20), len(df_40), len(df_80))\n"
   ],
   "metadata": {
    "collapsed": false,
    "ExecuteTime": {
     "end_time": "2024-01-19T20:27:29.330547Z",
     "start_time": "2024-01-19T20:27:29.327164900Z"
    }
   }
  },
  {
   "cell_type": "code",
   "execution_count": 196,
   "outputs": [
    {
     "name": "stderr",
     "output_type": "stream",
     "text": [
      "/tmp/ipykernel_15182/532581038.py:11: UserWarning: FigureCanvasPgf is non-interactive, and thus cannot be shown\n",
      "  plt.show()\n"
     ]
    }
   ],
   "source": [
    "plt.close('all')\n",
    "plt.figure(figsize=(20, 10))\n",
    "\n",
    "for i in df_10['index']:\n",
    "    #check if the curve is from lerner SVC_sigmod\n",
    "    if df_all.iloc[i]['learner'] == 'SVC_sigmoid':\n",
    "        a, m, std, openlid, learner = get_curve(i)\n",
    "        x, y, a_2, m_2, cutoff_index = get_common_data(CUTOFF, a, m)\n",
    "        plt.plot(a_2, m_2, alpha=0.4)\n",
    "plt.savefig(\"/mnt/c/Users/prath/PycharmProjects/rp/Data/failed_curves_svc_sigmoid.png\", dpi=400)\n",
    "plt.show()\n"
   ],
   "metadata": {
    "collapsed": false,
    "ExecuteTime": {
     "end_time": "2024-01-19T23:42:44.104028300Z",
     "start_time": "2024-01-19T23:42:40.123736600Z"
    }
   }
  }
 ],
 "metadata": {
  "kernelspec": {
   "display_name": "Python 3",
   "language": "python",
   "name": "python3"
  },
  "language_info": {
   "codemirror_mode": {
    "name": "ipython",
    "version": 2
   },
   "file_extension": ".py",
   "mimetype": "text/x-python",
   "name": "python",
   "nbconvert_exporter": "python",
   "pygments_lexer": "ipython2",
   "version": "2.7.6"
  }
 },
 "nbformat": 4,
 "nbformat_minor": 0
}
