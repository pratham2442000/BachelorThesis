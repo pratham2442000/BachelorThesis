{
 "cells": [
  {
   "cell_type": "code",
   "execution_count": 1,
   "metadata": {
    "collapsed": true,
    "ExecuteTime": {
     "start_time": "2024-01-14T15:52:47.051734Z",
     "end_time": "2024-01-14T15:52:51.173769Z"
    }
   },
   "outputs": [
    {
     "name": "stdout",
     "output_type": "stream",
     "text": [
      "None\n"
     ]
    }
   ],
   "source": [
    "import numpy as np\n",
    "import pandas as pd\n",
    "import torch\n",
    "from matplotlib import pyplot as plt\n",
    "from sklearn.metrics import r2_score\n",
    "\n",
    "#mean squared error, mean absolute error, and coefficient of determination\n",
    "import lcpfn.lcpfn as lcpfn\n",
    "\n",
    "path_all = '/mnt/c/Users/prath/PycharmProjects/rp/LCDB_localised/all_curves_preprocessed.pkl'\n",
    "df_all = pd.read_pickle(path_all)\n",
    "\n",
    "# model_name = '/mnt/c/Users/prath/PycharmProjects/rp/Data/model_lcdb_2.pt'\n",
    "model_name = None\n",
    "if model_name is None:\n",
    "    model = lcpfn.LCPFN()\n",
    "else:\n",
    "    model = lcpfn.LCPFN(model_name=model_name)\n",
    "print(model_name)"
   ]
  },
  {
   "cell_type": "code",
   "execution_count": 16,
   "outputs": [],
   "source": [
    "#vairables\n",
    "CUTOFF = 10 #percentage of the curve use as input\n",
    "FAIL_PER = 60 #percentage of points that should be within the CI"
   ],
   "metadata": {
    "collapsed": false,
    "ExecuteTime": {
     "start_time": "2024-01-09T21:23:58.898807Z",
     "end_time": "2024-01-09T21:23:58.987539Z"
    }
   }
  },
  {
   "cell_type": "markdown",
   "source": [
    "## Check for which curves the lcpfn model is not able to predict"
   ],
   "metadata": {
    "collapsed": false
   }
  },
  {
   "cell_type": "code",
   "execution_count": 17,
   "outputs": [],
   "source": [
    "def get_curve(i:int):\n",
    "    \"\"\"Retrieve the curve for a given model and dataset.\"\"\"\n",
    "    row = df_all.iloc[i]\n",
    "    openlid = row['openmlid']\n",
    "    learner = row['learner']\n",
    "    anchors = row['anchors']\n",
    "    means = row['means']\n",
    "    std = row['std']\n",
    "    return anchors, means, std, openlid, learner\n",
    "\n",
    "def get_closest_index(lst, target):\n",
    "    return min(range(len(lst)), key=lambda i: abs(lst[i] - target))\n",
    "\n",
    "def get_common_data(cutoff, anchors, means, ):\n",
    "    means = np.array(means)\n",
    "    anchors = np.array(anchors)\n",
    "    anchors = ((anchors - np.min(anchors)) / (np.max(anchors) - np.min(anchors))) * 100\n",
    "\n",
    "    cutoff_index = get_closest_index(anchors, cutoff)\n",
    "    curve = np.array(means[:cutoff_index])\n",
    "    anchors = anchors.astype(int)\n",
    "\n",
    "    x = torch.from_numpy(anchors).unsqueeze(1)\n",
    "    y = torch.from_numpy(curve).float().unsqueeze(1)\n",
    "    return x, y, anchors, means, cutoff_index\n",
    "\n",
    "def plot_it(anchors, means, predictions, cutoff_index, x, learner):\n",
    "    plt.plot(anchors, means, \"*\", label=\"target\")\n",
    "    plt.plot(anchors, means, label=\"target\")\n",
    "    plt.plot(x[cutoff_index:], predictions[:, 1], \"r*\", label=\"Extrapolation by PFN\")\n",
    "    plt.fill_between(\n",
    "        x[cutoff_index:].flatten(), predictions[:, 0], predictions[:, 2], color=\"red\", alpha=0.3, label=\"CI of 90%\"\n",
    "    )\n",
    "    plt.vlines(x[cutoff_index], 0, 1, linewidth=0.5, color=\"k\", label=\"cutoff\")\n",
    "    plt.ylim(0, 1)\n",
    "    plt.legend(loc=\"lower right\")\n",
    "    plt.savefig(\"/mnt/c/Users/prath/PycharmProjects/rp/Data/extrapolation_\"+learner+\".png\")\n",
    "    plt.show()"
   ],
   "metadata": {
    "collapsed": false,
    "ExecuteTime": {
     "start_time": "2024-01-09T21:23:58.951615Z",
     "end_time": "2024-01-09T21:23:58.988532Z"
    }
   }
  },
  {
   "cell_type": "code",
   "execution_count": 20,
   "outputs": [
    {
     "name": "stdout",
     "output_type": "stream",
     "text": [
      "3 44 SVC_sigmoid 2 7\n"
     ]
    },
    {
     "data": {
      "text/plain": "<Figure size 640x480 with 1 Axes>",
      "image/png": "[encoded data removed]"
     },
     "metadata": {},
     "output_type": "display_data"
    }
   ],
   "source": [
    "curve_that_failed = []\n",
    "for i in range(len(df_all)):\n",
    "    a, m, std, openlid, learner = get_curve(i)\n",
    "    x, y, anchors, means, cutoff_index = get_common_data(CUTOFF, a, m)\n",
    "    predictions = model.predict_quantiles(x_train=x[:cutoff_index], y_train=y, x_test=x[cutoff_index:], qs=[0.05, 0.5, 0.95])\n",
    "    predictions = predictions.detach().numpy()\n",
    "    low_ci = predictions[:, 0]\n",
    "    high_ci = predictions[:, 2]\n",
    "\n",
    "    #check if X% of points are within the CI\n",
    "    conditions = (means[cutoff_index:] >= low_ci) & (means[cutoff_index:] <= high_ci)\n",
    "    within_ci = np.where(conditions)[0]\n",
    "\n",
    "\n",
    "    if len(within_ci) < FAIL_PER/100 * len(means[cutoff_index:]):\n",
    "        curve_that_failed.append((i, openlid, learner, len(within_ci), len(means[cutoff_index:])))\n",
    "        print(i, openlid, learner, len(within_ci), len(means[cutoff_index:]))\n",
    "        plot_it(anchors, means, predictions, cutoff_index, x, learner)\n",
    "        # print(\"---------------------------------------------------\")\n",
    "        break"
   ],
   "metadata": {
    "collapsed": false,
    "ExecuteTime": {
     "start_time": "2024-01-09T22:26:38.378651Z",
     "end_time": "2024-01-09T22:26:40.195740Z"
    }
   }
  },
  {
   "cell_type": "code",
   "execution_count": 19,
   "outputs": [
    {
     "name": "stdout",
     "output_type": "stream",
     "text": [
      "443\n"
     ]
    },
    {
     "data": {
      "text/plain": "learner\nSVC_sigmoid                                                    71\nsklearn.discriminant_analysis.QuadraticDiscriminantAnalysis    59\nSVC_rbf                                                        34\nSVC_poly                                                       33\nsklearn.neural_network.MLPClassifier                           26\nsklearn.linear_model.Perceptron                                24\nsklearn.linear_model.RidgeClassifier                           20\nsklearn.linear_model.PassiveAggressiveClassifier               19\nsklearn.naive_bayes.BernoulliNB                                19\nsklearn.linear_model.SGDClassifier                             18\nsklearn.discriminant_analysis.LinearDiscriminantAnalysis       17\nSVC_linear                                                     17\nsklearn.ensemble.ExtraTreesClassifier                          16\nsklearn.ensemble.RandomForestClassifier                        14\nsklearn.neighbors.KNeighborsClassifier                         14\nsklearn.ensemble.GradientBoostingClassifier                    14\nsklearn.tree.ExtraTreeClassifier                                9\nsklearn.linear_model.LogisticRegression                         8\nsklearn.tree.DecisionTreeClassifier                             6\nsklearn.naive_bayes.MultinomialNB                               5\nName: count, dtype: int64"
     },
     "execution_count": 19,
     "metadata": {},
     "output_type": "execute_result"
    }
   ],
   "source": [
    "print(len(curve_that_failed))\n",
    "df = pd.DataFrame(curve_that_failed, columns=['index', 'openmlid', 'learner', 'within_ci', 'total'])\n",
    "df['learner'].value_counts()"
   ],
   "metadata": {
    "collapsed": false,
    "ExecuteTime": {
     "start_time": "2024-01-09T21:26:31.883319Z",
     "end_time": "2024-01-09T21:26:32.027207Z"
    }
   }
  }
 ],
 "metadata": {
  "kernelspec": {
   "display_name": "Python 3",
   "language": "python",
   "name": "python3"
  },
  "language_info": {
   "codemirror_mode": {
    "name": "ipython",
    "version": 2
   },
   "file_extension": ".py",
   "mimetype": "text/x-python",
   "name": "python",
   "nbconvert_exporter": "python",
   "pygments_lexer": "ipython2",
   "version": "2.7.6"
  }
 },
 "nbformat": 4,
 "nbformat_minor": 0
}
