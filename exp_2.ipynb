{
 "cells": [
  {
   "cell_type": "code",
   "execution_count": null,
   "metadata": {
    "collapsed": true,
    "ExecuteTime": {
     "start_time": "2024-01-08T12:47:53.009222Z",
     "end_time": "2024-01-08T12:47:53.492246Z"
    }
   },
   "outputs": [],
   "source": [
    "import numpy as np\n",
    "import pandas as pd\n",
    "import torch\n",
    "from matplotlib import pyplot as plt\n",
    "from sklearn.metrics import r2_score\n",
    "\n",
    "#mean squared error, mean absolute error, and coefficient of determination\n",
    "import lcpfn.lcpfn as lcpfn\n",
    "\n",
    "path_all = '/mnt/c/Users/prath/PycharmProjects/rp/LCDB_localised/all_curves_preprocessed.pkl'\n",
    "df_all = pd.read_pickle(path_all)\n",
    "\n",
    "# model_name = '/mnt/c/Users/prath/PycharmProjects/rp/Data/model_lcdb_2.pt'\n",
    "model_name = None\n",
    "if model_name is None:\n",
    "    model = lcpfn.LCPFN()\n",
    "else:\n",
    "    model = lcpfn.LCPFN(model_name=model_name)\n",
    "print(model_name)"
   ]
  },
  {
   "cell_type": "code",
   "execution_count": null,
   "outputs": [],
   "source": [
    "#vairables\n",
    "CUTOFF = 50 #percentage of the curve use as input\n",
    "FAIL_PER = 60 #percentage of points that should be within the CI"
   ],
   "metadata": {
    "collapsed": false,
    "ExecuteTime": {
     "start_time": "2024-01-08T12:47:53.492246Z",
     "end_time": "2024-01-08T12:47:53.496762Z"
    }
   }
  },
  {
   "cell_type": "markdown",
   "source": [
    "## Check for which curves the lcpfn model is not able to predict"
   ],
   "metadata": {
    "collapsed": false
   }
  },
  {
   "cell_type": "code",
   "execution_count": null,
   "outputs": [],
   "source": [
    "def get_validation_curve(i:int):\n",
    "    \"\"\"Retrieve the validation curve for a given model and dataset.\"\"\"\n",
    "    row = df_all.iloc[i]\n",
    "    openlid = row['openmlid']\n",
    "    learner = row['learner']\n",
    "    anchors = row['anchors']\n",
    "    means = row['means']\n",
    "    std = row['std']\n",
    "    return anchors, means, std, openlid, learner\n",
    "\n",
    "def get_closest_index(lst, target):\n",
    "    return min(range(len(lst)), key=lambda i: abs(lst[i] - target))\n",
    "\n",
    "def get_common_data(cutoff, anchors, means, ):\n",
    "    means = np.array(means)\n",
    "    anchors = np.array(anchors)\n",
    "    anchors = ((anchors - np.min(anchors)) / (np.max(anchors) - np.min(anchors))) * 100\n",
    "\n",
    "    cutoff_index = get_closest_index(anchors, cutoff)\n",
    "    curve = np.array(means[:cutoff_index])\n",
    "    anchors = anchors.astype(int)\n",
    "\n",
    "    x = torch.from_numpy(anchors).unsqueeze(1)\n",
    "    y = torch.from_numpy(curve).float().unsqueeze(1)\n",
    "    return x, y, anchors, means, cutoff_index\n",
    "\n",
    "def plot_it(anchors, means, predictions, cutoff_index, x):\n",
    "    plt.plot(anchors, means, \"*\", label=\"target\")\n",
    "    plt.plot(anchors, means, label=\"target\")\n",
    "    plt.plot(x[cutoff_index:], predictions[:, 1], \"r*\", label=\"Extrapolation by PFN\")\n",
    "    plt.fill_between(\n",
    "        x[cutoff_index:].flatten(), predictions[:, 0], predictions[:, 2], color=\"red\", alpha=0.3, label=\"CI of 90%\"\n",
    "    )\n",
    "    plt.vlines(x[cutoff_index], 0, 1, linewidth=0.5, color=\"k\", label=\"cutoff\")\n",
    "    plt.ylim(0, 1)\n",
    "    plt.legend(loc=\"lower right\")\n",
    "    plt.savefig(\"extrapolation.png\")\n",
    "    plt.show()"
   ],
   "metadata": {
    "collapsed": false,
    "ExecuteTime": {
     "start_time": "2024-01-08T12:47:53.502763Z",
     "end_time": "2024-01-08T12:47:53.514760Z"
    }
   }
  },
  {
   "cell_type": "code",
   "execution_count": null,
   "outputs": [],
   "source": [
    "curve_that_failed = []\n",
    "for i in range(len(df_all)):\n",
    "    a, m, std, openlid, learner = get_validation_curve(i)\n",
    "    x, y, anchors, means, cutoff_index = get_common_data(CUTOFF, a, m)\n",
    "    predictions = model.predict_quantiles(x_train=x[:cutoff_index], y_train=y, x_test=x[cutoff_index:], qs=[0.05, 0.5, 0.95])\n",
    "    predictions = predictions.detach().numpy()\n",
    "    low_ci = predictions[:, 0]\n",
    "    high_ci = predictions[:, 2]\n",
    "\n",
    "    #check if X% of points are within the CI\n",
    "    conditions = (means[cutoff_index:] >= low_ci) & (means[cutoff_index:] <= high_ci)\n",
    "    within_ci = np.where(conditions)[0]\n",
    "\n",
    "\n",
    "    if len(within_ci) < FAIL_PER/100 * len(means[cutoff_index:]):\n",
    "        curve_that_failed.append((i, openlid, learner, len(within_ci), len(means[cutoff_index:])))\n",
    "        print(i, openlid, learner, len(within_ci), len(means[cutoff_index:]))\n",
    "        # plot_it(anchors, means, predictions, cutoff_index, x)\n",
    "        print(\"---------------------------------------------------\")\n",
    "\n",
    "\n",
    "print(len(curve_that_failed))\n",
    "df = pd.DataFrame(curve_that_failed, columns=['index', 'openmlid', 'learner', 'within_ci', 'total'])"
   ],
   "metadata": {
    "collapsed": false,
    "ExecuteTime": {
     "start_time": "2024-01-08T12:47:53.514760Z",
     "end_time": "2024-01-08T12:49:58.141144Z"
    }
   }
  },
  {
   "cell_type": "code",
   "execution_count": null,
   "outputs": [],
   "source": [
    "df['learner'].value_counts()"
   ],
   "metadata": {
    "collapsed": false,
    "ExecuteTime": {
     "start_time": "2024-01-08T12:49:58.141144Z",
     "end_time": "2024-01-08T12:49:58.149382Z"
    }
   }
  },
  {
   "cell_type": "code",
   "execution_count": null,
   "outputs": [],
   "source": [
    "df['openmlid'].value_counts()"
   ],
   "metadata": {
    "collapsed": false,
    "ExecuteTime": {
     "start_time": "2024-01-08T12:49:58.149382Z",
     "end_time": "2024-01-08T12:49:58.225418Z"
    }
   }
  }
 ],
 "metadata": {
  "kernelspec": {
   "display_name": "Python 3",
   "language": "python",
   "name": "python3"
  },
  "language_info": {
   "codemirror_mode": {
    "name": "ipython",
    "version": 2
   },
   "file_extension": ".py",
   "mimetype": "text/x-python",
   "name": "python",
   "nbconvert_exporter": "python",
   "pygments_lexer": "ipython2",
   "version": "2.7.6"
  }
 },
 "nbformat": 4,
 "nbformat_minor": 0
}
