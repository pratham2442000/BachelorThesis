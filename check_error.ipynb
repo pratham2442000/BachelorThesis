{
 "cells": [
  {
   "cell_type": "code",
   "execution_count": 419,
   "metadata": {
    "ExecuteTime": {
     "start_time": "2023-12-08T11:26:56.825102Z",
     "end_time": "2023-12-08T11:27:01.208007Z"
    }
   },
   "outputs": [],
   "source": [
    "import numpy as np\n",
    "import pandas as pd\n",
    "import torch\n",
    "from matplotlib import pyplot as plt\n",
    "from sklearn.metrics import r2_score\n",
    "\n",
    "#mean squared error, mean absolute error, and coefficient of determination\n",
    "import lcpfn.lcpfn as lcpfn\n",
    "\n",
    "path_test = '/mnt/c/Users/prath/PycharmProjects/rp/LCDB_localised/test_curves.pkl'\n",
    "df_test = pd.read_pickle(path_test)\n",
    "\n",
    "# model_name = '/mnt/c/Users/prath/PycharmProjects/rp/model_lcdb.pt'\n",
    "model_name = None\n",
    "if model_name is None:\n",
    "    model = lcpfn.LCPFN()\n",
    "else:\n",
    "    model = lcpfn.LCPFN(model_name=model_name)"
   ]
  },
  {
   "cell_type": "code",
   "execution_count": 421,
   "metadata": {
    "collapsed": false,
    "jupyter": {
     "outputs_hidden": false
    },
    "ExecuteTime": {
     "start_time": "2023-12-08T11:27:06.222966Z",
     "end_time": "2023-12-08T11:27:06.271074Z"
    }
   },
   "outputs": [],
   "source": [
    "def get_validation_curve(rng:np.random):\n",
    "    \"\"\"Retrieve the validation curve for a given model and dataset.\"\"\"\n",
    "    #slect a random row from the dataframe\n",
    "    row = rng.choice(len(df_test)-1)\n",
    "    row = df_test.iloc[row]\n",
    "    #get the openml id\n",
    "    openlid = row['openmlid']\n",
    "    learner = row['learner']\n",
    "    anchors = row['anchors']\n",
    "    means = row['means']\n",
    "    std = row['std']\n",
    "    return anchors, means, std, openlid, learner\n",
    "\n",
    "\n",
    "def get_closest_index(lst, target):\n",
    "    return min(range(len(lst)), key=lambda i: abs(lst[i] - target))\n",
    "\n",
    "def get_common_data(cutoff, extend, anchors, means, ):\n",
    "\n",
    "    means = np.array(means)\n",
    "    anchors = np.array(anchors)\n",
    "    anchors = ((anchors - np.min(anchors)) / (np.max(anchors) - np.min(anchors))) * 100\n",
    "\n",
    "    cutoff_index = get_closest_index(anchors, cutoff)\n",
    "    curve = np.array(means[:cutoff_index])\n",
    "    anchors = anchors.astype(int)\n",
    "\n",
    "    add_anchor = np.arange(anchors[-1], extend, 10)\n",
    "    a = np.concatenate((anchors, add_anchor))\n",
    "    x = torch.from_numpy(a).unsqueeze(1)\n",
    "    y = torch.from_numpy(curve).float().unsqueeze(1)\n",
    "\n",
    "    return x, y, anchors, means, cutoff_index\n",
    "\n",
    "def get_mse(model, anchors, means, cutoff=5, extend=100, plot=False):\n",
    "    x, y, anchors, means, cutoff_index = get_common_data(cutoff, extend, anchors, means, )\n",
    "\n",
    "    predictions = model.predict_quantiles(x_train=x[:cutoff_index], y_train=y, x_test=x[cutoff_index:], qs=[0.05, 0.5, 0.95])\n",
    "\n",
    "    if plot:\n",
    "        plot_it(anchors, means, predictions, cutoff_index, x)\n",
    "\n",
    "    predictions = predictions.detach().numpy()\n",
    "    return np.mean((predictions[:len(anchors) - cutoff_index, 1] - means[cutoff_index:]) ** 2)\n",
    "\n",
    "\n",
    "def get_mae(model, anchors, means ,cutoff=5, extend=100, plot=False):\n",
    "    x, y, anchors, means, cutoff_index = get_common_data(cutoff, extend, anchors, means,)\n",
    "\n",
    "    predictions = model.predict_quantiles(x_train=x[:cutoff_index], y_train=y, x_test=x[cutoff_index:], qs=[0.05, 0.5, 0.95])\n",
    "\n",
    "    if plot:\n",
    "        plot_it(anchors, means, predictions, cutoff_index, x)\n",
    "\n",
    "    predictions = predictions.detach().numpy()\n",
    "    return np.mean(np.abs(predictions[:len(anchors) - cutoff_index, 1] - means[cutoff_index:]))\n",
    "\n",
    "def get_cod(model, anchors, means, cutoff=5, extend=100, plot=False):\n",
    "    x, y, anchors, means, cutoff_index = get_common_data(cutoff, extend, anchors, means,)\n",
    "\n",
    "    predictions = model.predict_quantiles(x_train=x[:cutoff_index], y_train=y, x_test=x[cutoff_index:], qs=[0.05, 0.5, 0.95])\n",
    "\n",
    "    if plot:\n",
    "        plot_it(anchors, means, predictions, cutoff_index, x)\n",
    "\n",
    "    predictions = predictions.detach().numpy()\n",
    "    cod = r2_score(means[cutoff_index:], predictions[:len(anchors) - cutoff_index, 1])\n",
    "    return cod\n",
    "\n",
    "def plot_it(anchors, means, predictions, cutoff_index, x):\n",
    "    plt.plot(anchors, means, \"*\", label=\"target\")\n",
    "    plt.plot(anchors, means, label=\"target\")\n",
    "    plt.plot(x[cutoff_index:], predictions[:, 1], \"r*\", label=\"Extrapolation by PFN\")\n",
    "    plt.fill_between(\n",
    "        x[cutoff_index:].flatten(), predictions[:, 0], predictions[:, 2], color=\"blue\", alpha=0.2, label=\"CI of 90%\"\n",
    "    )\n",
    "    plt.vlines(x[cutoff_index], 0, 1, linewidth=0.5, color=\"k\", label=\"cutoff\")\n",
    "    plt.ylim(0, 1)\n",
    "    plt.legend(loc=\"lower right\")\n",
    "    plt.show()\n",
    "\n",
    "\n"
   ]
  },
  {
   "cell_type": "code",
   "execution_count": 429,
   "outputs": [
    {
     "name": "stdout",
     "output_type": "stream",
     "text": [
      "389 sklearn.naive_bayes.MultinomialNB\n"
     ]
    },
    {
     "data": {
      "text/plain": "<Figure size 640x480 with 1 Axes>",
      "image/png": "[encoded data removed]"
     },
     "metadata": {},
     "output_type": "display_data"
    },
    {
     "name": "stdout",
     "output_type": "stream",
     "text": [
      "0.00024006093770164802\n",
      "0.014550602224350007\n",
      "0.6920185677854145\n"
     ]
    }
   ],
   "source": [
    "rng = np.random.default_rng()\n",
    "anchors, means, std, openlid, learner = get_validation_curve(rng)\n",
    "print(openlid, learner)\n",
    "\n",
    "print(get_mse(model, anchors, means, extend=200, plot=True))\n",
    "print(get_mae(model, anchors, means))\n",
    "print(get_cod(model, anchors, means))"
   ],
   "metadata": {
    "collapsed": false,
    "ExecuteTime": {
     "start_time": "2023-12-08T11:32:17.296587Z",
     "end_time": "2023-12-08T11:32:17.796914Z"
    }
   }
  },
  {
   "cell_type": "code",
   "execution_count": 404,
   "outputs": [
    {
     "name": "stdout",
     "output_type": "stream",
     "text": [
      "100\r"
     ]
    }
   ],
   "source": [
    "performance  = []\n",
    "performance_lable  = []\n",
    "\n",
    "for i in range(100):\n",
    "    print(i+1, end='\\r')\n",
    "    anchors, means, std, openlid, learner = get_validation_curve(rng)\n",
    "    performance.append([get_mse(model, anchors, means), get_mae(model, anchors, means), get_cod(model, anchors, means)])\n",
    "    performance_lable.append(str(int(openlid)) + '_' + learner)\n",
    "\n",
    "performance  = np.array(performance )"
   ],
   "metadata": {
    "collapsed": false,
    "ExecuteTime": {
     "start_time": "2023-12-08T01:07:58.955587Z",
     "end_time": "2023-12-08T01:08:05.889752Z"
    }
   }
  },
  {
   "cell_type": "code",
   "execution_count": 403,
   "outputs": [
    {
     "name": "stdout",
     "output_type": "stream",
     "text": [
      "              mse         mae           cod\n",
      "count  100.000000  100.000000  1.000000e+02\n",
      "mean     0.012085    0.066919 -3.428475e+05\n",
      "std      0.024718    0.073632  3.415520e+06\n",
      "min      0.000005    0.002126 -3.415627e+07\n",
      "25%      0.000438    0.019250 -6.996830e+00\n",
      "50%      0.001645    0.037075 -1.894095e+00\n",
      "75%      0.008968    0.087251 -2.747523e-01\n",
      "max      0.135148    0.314721  9.504035e-01\n"
     ]
    }
   ],
   "source": [
    "# Print the results in a clear format\n",
    "df = pd.DataFrame(performance, columns=['mse', 'mae', 'cod'])\n",
    "print(df.describe())"
   ],
   "metadata": {
    "collapsed": false,
    "ExecuteTime": {
     "start_time": "2023-12-08T01:07:54.906812Z",
     "end_time": "2023-12-08T01:07:54.957555Z"
    }
   }
  }
 ],
 "metadata": {
  "kernelspec": {
   "display_name": "Python 3 (ipykernel)",
   "language": "python",
   "name": "python3"
  },
  "language_info": {
   "codemirror_mode": {
    "name": "ipython",
    "version": 3
   },
   "file_extension": ".py",
   "mimetype": "text/x-python",
   "name": "python",
   "nbconvert_exporter": "python",
   "pygments_lexer": "ipython3",
   "version": "3.9.18"
  }
 },
 "nbformat": 4,
 "nbformat_minor": 4
}
