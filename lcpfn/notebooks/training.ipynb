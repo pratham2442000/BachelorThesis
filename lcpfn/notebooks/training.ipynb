{
 "cells": [
  {
   "cell_type": "code",
   "execution_count": 1,
   "id": "97c21741-fc4a-4116-99ce-e400a17d3727",
   "metadata": {
    "ExecuteTime": {
     "start_time": "2023-12-04T23:25:01.824157Z",
     "end_time": "2023-12-04T23:25:01.949051Z"
    }
   },
   "outputs": [],
   "source": [
    "%load_ext autoreload\n",
    "%autoreload 2"
   ]
  },
  {
   "cell_type": "code",
   "execution_count": 2,
   "id": "028b0665-850b-4add-bd8a-fffea70cc9bc",
   "metadata": {
    "ExecuteTime": {
     "start_time": "2023-12-04T23:25:01.871875Z",
     "end_time": "2023-12-04T23:25:01.950474Z"
    }
   },
   "outputs": [
    {
     "name": "stderr",
     "output_type": "stream",
     "text": [
      "/home/prat/miniconda3/envs/rp/lib/python3.9/site-packages/IPython/core/magics/osm.py:417: UserWarning: using dhist requires you to install the `pickleshare` library.\n",
      "  self.shell.db['dhist'] = compress_dhist(dhist)[-100:]\n"
     ]
    }
   ],
   "source": [
    "%cd -q .."
   ]
  },
  {
   "cell_type": "code",
   "execution_count": 3,
   "id": "b816ca61-893f-47fc-8b2c-5730ef41199d",
   "metadata": {
    "ExecuteTime": {
     "start_time": "2023-11-27T16:57:02.974891Z",
     "end_time": "2023-11-27T16:57:07.438547Z"
    }
   },
   "outputs": [
    {
     "ename": "ModuleNotFoundError",
     "evalue": "No module named 'lcpfn.lcpfn'",
     "output_type": "error",
     "traceback": [
      "\u001B[0;31m---------------------------------------------------------------------------\u001B[0m",
      "\u001B[0;31mModuleNotFoundError\u001B[0m                       Traceback (most recent call last)",
      "Cell \u001B[0;32mIn[3], line 1\u001B[0m\n\u001B[0;32m----> 1\u001B[0m \u001B[38;5;28;01mimport\u001B[39;00m \u001B[38;5;21;01mlcpfn\u001B[39;00m \n\u001B[1;32m      2\u001B[0m \u001B[38;5;28;01mimport\u001B[39;00m \u001B[38;5;21;01mnumpy\u001B[39;00m \u001B[38;5;28;01mas\u001B[39;00m \u001B[38;5;21;01mnp\u001B[39;00m\n\u001B[1;32m      3\u001B[0m \u001B[38;5;28;01mfrom\u001B[39;00m \u001B[38;5;21;01mmatplotlib\u001B[39;00m \u001B[38;5;28;01mimport\u001B[39;00m pyplot \u001B[38;5;28;01mas\u001B[39;00m plt\n",
      "File \u001B[0;32m/mnt/c/Users/prath/PycharmProjects/rp/lcpfn/lcpfn/__init__.py:51\u001B[0m\n\u001B[1;32m     48\u001B[0m         \u001B[38;5;28;01mreturn\u001B[39;00m model_dict[name]\n\u001B[1;32m     49\u001B[0m     \u001B[38;5;28;01mraise\u001B[39;00m \u001B[38;5;167;01mAttributeError\u001B[39;00m(\u001B[38;5;124mf\u001B[39m\u001B[38;5;124m\"\u001B[39m\u001B[38;5;124mmodule \u001B[39m\u001B[38;5;124m'\u001B[39m\u001B[38;5;132;01m{\u001B[39;00m\u001B[38;5;18m__name__\u001B[39m\u001B[38;5;132;01m}\u001B[39;00m\u001B[38;5;124m'\u001B[39m\u001B[38;5;124m has no attribute \u001B[39m\u001B[38;5;124m'\u001B[39m\u001B[38;5;132;01m{\u001B[39;00mname\u001B[38;5;132;01m}\u001B[39;00m\u001B[38;5;124m'\u001B[39m\u001B[38;5;124m\"\u001B[39m)\n\u001B[0;32m---> 51\u001B[0m \u001B[38;5;28;01mfrom\u001B[39;00m \u001B[38;5;21;01mlcpfn\u001B[39;00m\u001B[38;5;21;01m.\u001B[39;00m\u001B[38;5;21;01mlcpfn\u001B[39;00m\u001B[38;5;21;01m.\u001B[39;00m\u001B[38;5;21;01mmodel\u001B[39;00m \u001B[38;5;28;01mimport\u001B[39;00m LCPFN\n\u001B[1;32m     52\u001B[0m \u001B[38;5;28;01mfrom\u001B[39;00m \u001B[38;5;21;01mlcpfn\u001B[39;00m\u001B[38;5;21;01m.\u001B[39;00m\u001B[38;5;21;01mlcpfn\u001B[39;00m\u001B[38;5;21;01m.\u001B[39;00m\u001B[38;5;21;01mtrain_lcpfn\u001B[39;00m \u001B[38;5;28;01mimport\u001B[39;00m train_lcpfn\n\u001B[1;32m     53\u001B[0m \u001B[38;5;28;01mfrom\u001B[39;00m \u001B[38;5;21;01mlcpfn\u001B[39;00m\u001B[38;5;21;01m.\u001B[39;00m\u001B[38;5;21;01mlcpfn\u001B[39;00m\u001B[38;5;21;01m.\u001B[39;00m\u001B[38;5;21;01mdomhan_prior\u001B[39;00m \u001B[38;5;28;01mimport\u001B[39;00m sample_from_prior, create_get_batch_func\n",
      "\u001B[0;31mModuleNotFoundError\u001B[0m: No module named 'lcpfn.lcpfn'"
     ]
    }
   ],
   "source": [
    "import lcpfn \n",
    "import numpy as np\n",
    "from matplotlib import pyplot as plt"
   ]
  },
  {
   "cell_type": "markdown",
   "id": "d8cabdf7-ab64-492e-a0c8-7d1ef8f49f95",
   "metadata": {},
   "source": [
    "## Generate samples from LC prior"
   ]
  },
  {
   "cell_type": "code",
   "execution_count": null,
   "id": "c0218450-7968-44db-8a4a-a25b6a02dfb7",
   "metadata": {
    "ExecuteTime": {
     "start_time": "2023-11-27T16:57:07.444637Z",
     "end_time": "2023-11-27T16:57:07.872720Z"
    }
   },
   "outputs": [],
   "source": [
    "for _ in range(50):\n",
    "    prior = lcpfn.sample_from_prior(np.random)\n",
    "    curve, _ = prior()\n",
    "    plt.plot(curve, \"black\", alpha=0.1)\n",
    "plt.ylim(0, 1)"
   ]
  },
  {
   "cell_type": "markdown",
   "id": "685552b1-94b2-428a-bca2-66690f3090d2",
   "metadata": {},
   "source": [
    "## Train a PFN model with the previous learning curve prior"
   ]
  },
  {
   "cell_type": "code",
   "execution_count": null,
   "id": "48b1c249-d9cc-4543-bbd3-c0cf410263c3",
   "metadata": {
    "ExecuteTime": {
     "start_time": "2023-11-27T16:57:07.872720Z",
     "end_time": "2023-11-27T16:57:07.976732Z"
    }
   },
   "outputs": [],
   "source": [
    "get_batch_func = lcpfn.create_get_batch_func(prior=lcpfn.sample_from_prior)"
   ]
  },
  {
   "cell_type": "code",
   "execution_count": null,
   "id": "386dcfc8-d92a-4b78-8881-b68da4b1e9c5",
   "metadata": {
    "ExecuteTime": {
     "start_time": "2023-11-27T16:57:07.914833Z",
     "end_time": "2023-11-27T16:57:08.030937Z"
    }
   },
   "outputs": [],
   "source": [
    "# example of a batch\n",
    "\n",
    "X, Y, Y_noisy = get_batch_func(batch_size=100, seq_len=100, num_features=1)\n",
    "print(X.shape, Y.shape, Y_noisy.shape)"
   ]
  },
  {
   "cell_type": "code",
   "execution_count": null,
   "id": "091def9b-dd4c-4e7d-8550-5dc016bc3893",
   "metadata": {
    "ExecuteTime": {
     "start_time": "2023-11-27T16:57:08.024924Z",
     "end_time": "2023-11-27T16:57:08.154716Z"
    }
   },
   "outputs": [],
   "source": [
    "# Main function to train a PFN model\n",
    "\n",
    "lcpfn.train_lcpfn"
   ]
  },
  {
   "cell_type": "code",
   "execution_count": null,
   "id": "c18b2d21-1819-425a-aeba-9b3871f5900a",
   "metadata": {
    "ExecuteTime": {
     "start_time": "2023-11-24T12:15:30.426155Z",
     "end_time": "2023-11-24T12:15:57.438914Z"
    }
   },
   "outputs": [],
   "source": [
    "# train a small model for 3 epochs\n",
    "\n",
    "result = lcpfn.train_lcpfn(get_batch_func=get_batch_func, \n",
    "                          seq_len=100,\n",
    "                         emsize=256,\n",
    "                         nlayers=3,\n",
    "                         num_borders=1000,\n",
    "                         lr=0.001,\n",
    "                         batch_size=10,\n",
    "                         epochs=3)"
   ]
  },
  {
   "cell_type": "code",
   "execution_count": null,
   "id": "4584f7a0-b5d9-4623-a7bd-987da27558aa",
   "metadata": {
    "ExecuteTime": {
     "start_time": "2023-11-24T12:15:57.421829Z",
     "end_time": "2023-11-24T12:15:57.584195Z"
    }
   },
   "outputs": [],
   "source": [
    "# Get the trained model\n",
    "\n",
    "model = result[2]\n",
    "print(model)"
   ]
  }
 ],
 "metadata": {
  "kernelspec": {
   "name": "python3",
   "language": "python",
   "display_name": "Python 3 (ipykernel)"
  },
  "language_info": {
   "codemirror_mode": {
    "name": "ipython",
    "version": 3
   },
   "file_extension": ".py",
   "mimetype": "text/x-python",
   "name": "python",
   "nbconvert_exporter": "python",
   "pygments_lexer": "ipython3",
   "version": "3.10.11"
  }
 },
 "nbformat": 4,
 "nbformat_minor": 5
}
