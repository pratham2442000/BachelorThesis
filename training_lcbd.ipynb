{
 "cells": [
  {
   "cell_type": "code",
   "execution_count": 3,
   "id": "97c21741-fc4a-4116-99ce-e400a17d3727",
   "metadata": {
    "ExecuteTime": {
     "start_time": "2023-12-03T23:04:00.922789Z",
     "end_time": "2023-12-03T23:04:00.961008Z"
    }
   },
   "outputs": [
    {
     "name": "stdout",
     "output_type": "stream",
     "text": [
      "The autoreload extension is already loaded. To reload it, use:\n",
      "  %reload_ext autoreload\n"
     ]
    }
   ],
   "source": [
    "%load_ext autoreload\n",
    "%autoreload 2"
   ]
  },
  {
   "cell_type": "code",
   "execution_count": 4,
   "id": "028b0665-850b-4add-bd8a-fffea70cc9bc",
   "metadata": {
    "ExecuteTime": {
     "start_time": "2023-12-03T23:04:01.567286Z",
     "end_time": "2023-12-03T23:04:01.589850Z"
    }
   },
   "outputs": [
    {
     "name": "stderr",
     "output_type": "stream",
     "text": [
      "/home/prat/miniconda3/envs/rp/lib/python3.9/site-packages/IPython/core/magics/osm.py:417: UserWarning: using dhist requires you to install the `pickleshare` library.\n",
      "  self.shell.db['dhist'] = compress_dhist(dhist)[-100:]\n"
     ]
    }
   ],
   "source": [
    "%cd -q .."
   ]
  },
  {
   "cell_type": "code",
   "execution_count": 5,
   "id": "b816ca61-893f-47fc-8b2c-5730ef41199d",
   "metadata": {
    "ExecuteTime": {
     "start_time": "2023-12-03T23:04:02.330405Z",
     "end_time": "2023-12-03T23:04:07.107541Z"
    }
   },
   "outputs": [],
   "source": [
    "import lcpfn\n",
    "import numpy as np\n",
    "from matplotlib import pyplot as plt\n",
    "import lcdb\n",
    "import torch\n",
    "from scipy.interpolate import interp1d"
   ]
  },
  {
   "cell_type": "markdown",
   "id": "d8cabdf7-ab64-492e-a0c8-7d1ef8f49f95",
   "metadata": {},
   "source": [
    "\n",
    "## Generate samples from LCDB prior"
   ]
  },
  {
   "cell_type": "code",
   "execution_count": 7,
   "outputs": [
    {
     "data": {
      "text/plain": "         openmlid                             learner  size_train  size_test  \\\n0              44                          SVC_linear          16        461   \n1              44                          SVC_linear          23        461   \n2              44                          SVC_linear          32        461   \n3              44                          SVC_linear          45        461   \n4              44                          SVC_linear          64        461   \n...           ...                                 ...         ...        ...   \n1953366      1464  sklearn.linear_model.SGDClassifier         181         75   \n1953367      1464  sklearn.linear_model.SGDClassifier         256         75   \n1953368      1464  sklearn.linear_model.SGDClassifier         362         75   \n1953369      1464  sklearn.linear_model.SGDClassifier         512         75   \n1953370      1464  sklearn.linear_model.SGDClassifier         605         75   \n\n         outer_seed  inner_seed  traintime  score_train  score_valid  \\\n0                 0           0     0.0024       0.8750       0.7440   \n1                 0           0     0.0014       0.9565       0.7222   \n2                 0           0     0.0017       0.9375       0.7295   \n3                 0           0     0.0023       0.9778       0.8237   \n4                 0           0     0.0033       0.7812       0.6280   \n...             ...         ...        ...          ...          ...   \n1953366           4           4     0.0010       0.8011       0.7647   \n1953367           4           4     0.0012       0.7734       0.7647   \n1953368           4           4     0.0015       0.7735       0.7647   \n1953369           4           4     0.0018       0.4395       0.3676   \n1953370           4           4     0.0021       0.7620       0.7647   \n\n         score_test  \n0            0.7072  \n1            0.6876  \n2            0.7180  \n3            0.8048  \n4            0.6508  \n...             ...  \n1953366      0.7600  \n1953367      0.7600  \n1953368      0.7600  \n1953369      0.4533  \n1953370      0.7600  \n\n[1953371 rows x 10 columns]",
      "text/html": "<div>\n<style scoped>\n    .dataframe tbody tr th:only-of-type {\n        vertical-align: middle;\n    }\n\n    .dataframe tbody tr th {\n        vertical-align: top;\n    }\n\n    .dataframe thead th {\n        text-align: right;\n    }\n</style>\n<table border=\"1\" class=\"dataframe\">\n  <thead>\n    <tr style=\"text-align: right;\">\n      <th></th>\n      <th>openmlid</th>\n      <th>learner</th>\n      <th>size_train</th>\n      <th>size_test</th>\n      <th>outer_seed</th>\n      <th>inner_seed</th>\n      <th>traintime</th>\n      <th>score_train</th>\n      <th>score_valid</th>\n      <th>score_test</th>\n    </tr>\n  </thead>\n  <tbody>\n    <tr>\n      <th>0</th>\n      <td>44</td>\n      <td>SVC_linear</td>\n      <td>16</td>\n      <td>461</td>\n      <td>0</td>\n      <td>0</td>\n      <td>0.0024</td>\n      <td>0.8750</td>\n      <td>0.7440</td>\n      <td>0.7072</td>\n    </tr>\n    <tr>\n      <th>1</th>\n      <td>44</td>\n      <td>SVC_linear</td>\n      <td>23</td>\n      <td>461</td>\n      <td>0</td>\n      <td>0</td>\n      <td>0.0014</td>\n      <td>0.9565</td>\n      <td>0.7222</td>\n      <td>0.6876</td>\n    </tr>\n    <tr>\n      <th>2</th>\n      <td>44</td>\n      <td>SVC_linear</td>\n      <td>32</td>\n      <td>461</td>\n      <td>0</td>\n      <td>0</td>\n      <td>0.0017</td>\n      <td>0.9375</td>\n      <td>0.7295</td>\n      <td>0.7180</td>\n    </tr>\n    <tr>\n      <th>3</th>\n      <td>44</td>\n      <td>SVC_linear</td>\n      <td>45</td>\n      <td>461</td>\n      <td>0</td>\n      <td>0</td>\n      <td>0.0023</td>\n      <td>0.9778</td>\n      <td>0.8237</td>\n      <td>0.8048</td>\n    </tr>\n    <tr>\n      <th>4</th>\n      <td>44</td>\n      <td>SVC_linear</td>\n      <td>64</td>\n      <td>461</td>\n      <td>0</td>\n      <td>0</td>\n      <td>0.0033</td>\n      <td>0.7812</td>\n      <td>0.6280</td>\n      <td>0.6508</td>\n    </tr>\n    <tr>\n      <th>...</th>\n      <td>...</td>\n      <td>...</td>\n      <td>...</td>\n      <td>...</td>\n      <td>...</td>\n      <td>...</td>\n      <td>...</td>\n      <td>...</td>\n      <td>...</td>\n      <td>...</td>\n    </tr>\n    <tr>\n      <th>1953366</th>\n      <td>1464</td>\n      <td>sklearn.linear_model.SGDClassifier</td>\n      <td>181</td>\n      <td>75</td>\n      <td>4</td>\n      <td>4</td>\n      <td>0.0010</td>\n      <td>0.8011</td>\n      <td>0.7647</td>\n      <td>0.7600</td>\n    </tr>\n    <tr>\n      <th>1953367</th>\n      <td>1464</td>\n      <td>sklearn.linear_model.SGDClassifier</td>\n      <td>256</td>\n      <td>75</td>\n      <td>4</td>\n      <td>4</td>\n      <td>0.0012</td>\n      <td>0.7734</td>\n      <td>0.7647</td>\n      <td>0.7600</td>\n    </tr>\n    <tr>\n      <th>1953368</th>\n      <td>1464</td>\n      <td>sklearn.linear_model.SGDClassifier</td>\n      <td>362</td>\n      <td>75</td>\n      <td>4</td>\n      <td>4</td>\n      <td>0.0015</td>\n      <td>0.7735</td>\n      <td>0.7647</td>\n      <td>0.7600</td>\n    </tr>\n    <tr>\n      <th>1953369</th>\n      <td>1464</td>\n      <td>sklearn.linear_model.SGDClassifier</td>\n      <td>512</td>\n      <td>75</td>\n      <td>4</td>\n      <td>4</td>\n      <td>0.0018</td>\n      <td>0.4395</td>\n      <td>0.3676</td>\n      <td>0.4533</td>\n    </tr>\n    <tr>\n      <th>1953370</th>\n      <td>1464</td>\n      <td>sklearn.linear_model.SGDClassifier</td>\n      <td>605</td>\n      <td>75</td>\n      <td>4</td>\n      <td>4</td>\n      <td>0.0021</td>\n      <td>0.7620</td>\n      <td>0.7647</td>\n      <td>0.7600</td>\n    </tr>\n  </tbody>\n</table>\n<p>1953371 rows × 10 columns</p>\n</div>"
     },
     "execution_count": 7,
     "metadata": {},
     "output_type": "execute_result"
    }
   ],
   "source": [
    "a = lcdb.get_all_curves()"
   ],
   "metadata": {
    "collapsed": false,
    "ExecuteTime": {
     "start_time": "2023-12-03T23:09:31.435934Z",
     "end_time": "2023-12-03T23:09:33.410657Z"
    }
   }
  },
  {
   "cell_type": "code",
   "execution_count": 4,
   "id": "c0218450-7968-44db-8a4a-a25b6a02dfb7",
   "metadata": {
    "ExecuteTime": {
     "start_time": "2023-11-30T13:50:10.550205Z",
     "end_time": "2023-11-30T13:50:13.851986Z"
    }
   },
   "outputs": [
    {
     "data": {
      "text/plain": "<Figure size 640x480 with 1 Axes>",
      "image/png": "[encoded data removed]"
     },
     "metadata": {},
     "output_type": "display_data"
    },
    {
     "name": "stdout",
     "output_type": "stream",
     "text": [
      "anchors (16,)\n",
      "means (16,)\n",
      "x_smooth (100,)\n",
      "y_smooth (100,)\n"
     ]
    }
   ],
   "source": [
    "# for _ in range(50):\n",
    "#     prior = lcpfn.sample_from_prior(np.random)\n",
    "#     curve, _ = prior()\n",
    "#     plt.plot(curve, \"*\", alpha=0.1)\n",
    "# plt.ylim(0, 1)\n",
    "# plt.show()\n",
    "\n",
    "\n",
    "def get_validation_curve(dataset_id, model):\n",
    "    \"\"\"Retrieve the validation curve for a given model and dataset.\"\"\"\n",
    "    try:\n",
    "        anchors, _, scores_valid, _ = lcdb.get_curve(dataset_id, model)\n",
    "        means = [np.mean(sublist) for sublist in scores_valid]\n",
    "        return anchors, means\n",
    "\n",
    "    except Exception as e:\n",
    "        print(f\"Error with dataset_id: {dataset_id} and model: {model} - {str(e)}\")\n",
    "        return None, None\n",
    "\n",
    "\n",
    "# Create a function that generates a batch of samples from the LCBD dataset\n",
    "\n",
    "def get_noise_bounds(dataset_id, model):\n",
    "    \"\"\"Retrieve the validation curve for a given model and dataset.\"\"\"\n",
    "    try:\n",
    "        _, _, _, scores_test = lcdb.get_curve(dataset_id, model)\n",
    "        means = [max(sublist) - min(sublist) for sublist in scores_test]\n",
    "        return  np.std(means)\n",
    "\n",
    "    except Exception as e:\n",
    "        print(f\"Error with dataset_id: {dataset_id} and model: {model} - {str(e)}\")\n",
    "        return None, None\n",
    "\n",
    "def sample_from_lcbd(n:np.random, plot=False, seq_len=100):\n",
    "    \"\"\"Sample a learning curve from the LCBD dataset.\"\"\"\n",
    "    dataset_id = n.choice(lcdb.DATASET_IDS)\n",
    "    model = n.choice(lcdb.MODELS)\n",
    "\n",
    "    anchors, means = get_validation_curve(dataset_id, model)\n",
    "\n",
    "\n",
    "    return sample(n, components=None, distribution=None, plot=plot)\n",
    "\n",
    "\n",
    "\n",
    "def sample(rng:np.random,\n",
    "            components,\n",
    "            distribution,\n",
    "            var_lnloc=-4,\n",
    "            var_lnscale=1,\n",
    "            range_constraint=True,\n",
    "            seq_len=100,\n",
    "            dataset_id=3,\n",
    "            model=\"sklearn.tree.DecisionTreeClassifier\",\n",
    "            plot=False):\n",
    "\n",
    "    if type(dataset_id) == list:\n",
    "        dataset_id = rng.choice(dataset_id)\n",
    "    if type(model) == list:\n",
    "        model = rng.choice(model)\n",
    "\n",
    "    anchors, means = get_validation_curve(dataset_id, model)\n",
    "\n",
    "    means = np.array(means)\n",
    "    #change the anchors to be between 0 and 1\n",
    "    anchors = np.array(anchors)\n",
    "    anchors = (anchors - np.min(anchors)) / (np.max(anchors) - np.min(anchors))\n",
    "    f = interp1d(anchors, means, kind='cubic')\n",
    "    x_smooth = np.linspace(min(anchors), max(anchors), seq_len)\n",
    "    y_smooth = f(x_smooth)\n",
    "\n",
    "    std = get_noise_bounds(dataset_id, model)\n",
    "    y_noise = rng.normal(0, std, seq_len)\n",
    "    y_noise = y_smooth + y_noise\n",
    "    y_noise = np.clip(y_noise, 0, 1)\n",
    "\n",
    "    if plot:\n",
    "        plt.scatter(anchors*100, means, label='Original Points')\n",
    "        plt.plot(y_smooth, \"*\" ,label='Interpolated Curve', color='red', alpha=0.1)\n",
    "        plt.plot(y_noise,  \"*\", label='Interpolated noise Curve', color='blue', alpha=0.1)\n",
    "        plt.xlabel('X')\n",
    "        plt.ylabel('Y')\n",
    "        plt.legend()\n",
    "        plt.show()\n",
    "\n",
    "        print(\"anchors\", anchors.shape)\n",
    "        print(\"means\", means.shape)\n",
    "        print(\"x_smooth\", x_smooth.shape)\n",
    "        print(\"y_smooth\", y_smooth.shape)\n",
    "\n",
    "    def curve():\n",
    "        return y_smooth, y_noise\n",
    "    return curve\n",
    "\n",
    "\n",
    "y = sample_from_lcbd(np.random, plot=True)\n"
   ]
  },
  {
   "cell_type": "markdown",
   "id": "685552b1-94b2-428a-bca2-66690f3090d2",
   "metadata": {},
   "source": [
    "## Train a PFN model with the previous learning curve prior"
   ]
  },
  {
   "cell_type": "code",
   "execution_count": 7,
   "id": "48b1c249-d9cc-4543-bbd3-c0cf410263c3",
   "metadata": {
    "ExecuteTime": {
     "start_time": "2023-11-30T13:50:19.661395Z",
     "end_time": "2023-11-30T13:50:19.763101Z"
    }
   },
   "outputs": [],
   "source": [
    "get_batch_func = lcpfn.create_get_batch_func(prior=sample_from_lcbd)\n",
    "# lcpfn.sample_from_prior() or sample_from_lcbd"
   ]
  },
  {
   "cell_type": "code",
   "execution_count": 9,
   "id": "386dcfc8-d92a-4b78-8881-b68da4b1e9c5",
   "metadata": {
    "ExecuteTime": {
     "start_time": "2023-11-30T04:51:48.152254Z",
     "end_time": "2023-11-30T04:51:48.983877Z"
    }
   },
   "outputs": [
    {
     "ename": "KeyboardInterrupt",
     "evalue": "",
     "output_type": "error",
     "traceback": [
      "\u001B[0;31m---------------------------------------------------------------------------\u001B[0m",
      "\u001B[0;31mKeyboardInterrupt\u001B[0m                         Traceback (most recent call last)",
      "Cell \u001B[0;32mIn[9], line 2\u001B[0m\n\u001B[1;32m      1\u001B[0m \u001B[38;5;66;03m# example of a batch\u001B[39;00m\n\u001B[0;32m----> 2\u001B[0m X, Y, y_noise \u001B[38;5;241m=\u001B[39m \u001B[43mget_batch_func\u001B[49m\u001B[43m(\u001B[49m\u001B[43mbatch_size\u001B[49m\u001B[38;5;241;43m=\u001B[39;49m\u001B[38;5;241;43m100\u001B[39;49m\u001B[43m,\u001B[49m\u001B[43m \u001B[49m\u001B[43mseq_len\u001B[49m\u001B[38;5;241;43m=\u001B[39;49m\u001B[38;5;241;43m100\u001B[39;49m\u001B[43m,\u001B[49m\u001B[43m \u001B[49m\u001B[43mnum_features\u001B[49m\u001B[38;5;241;43m=\u001B[39;49m\u001B[38;5;241;43m1\u001B[39;49m\u001B[43m)\u001B[49m\n\u001B[1;32m      3\u001B[0m \u001B[38;5;28mprint\u001B[39m(X\u001B[38;5;241m.\u001B[39mshape, Y\u001B[38;5;241m.\u001B[39mshape, y_noise\u001B[38;5;241m.\u001B[39mshape)\n",
      "File \u001B[0;32m/mnt/c/Users/prath/PycharmProjects/rp/lcpfn/lcpfn/domhan_prior.py:173\u001B[0m, in \u001B[0;36mget_batch_domhan\u001B[0;34m(batch_size, seq_len, num_features, prior, device, noisy_target, **_)\u001B[0m\n\u001B[1;32m    170\u001B[0m y_noisy \u001B[38;5;241m=\u001B[39m np\u001B[38;5;241m.\u001B[39mempty((batch_size, seq_len), dtype\u001B[38;5;241m=\u001B[39m\u001B[38;5;28mfloat\u001B[39m)\n\u001B[1;32m    172\u001B[0m \u001B[38;5;28;01mfor\u001B[39;00m i \u001B[38;5;129;01min\u001B[39;00m \u001B[38;5;28mrange\u001B[39m(batch_size):\n\u001B[0;32m--> 173\u001B[0m     curve_func \u001B[38;5;241m=\u001B[39m \u001B[43mprior\u001B[49m\u001B[43m(\u001B[49m\u001B[43mnp\u001B[49m\u001B[38;5;241;43m.\u001B[39;49m\u001B[43mrandom\u001B[49m\u001B[43m,\u001B[49m\u001B[43m \u001B[49m\u001B[43mseq_len\u001B[49m\u001B[38;5;241;43m=\u001B[39;49m\u001B[43mseq_len\u001B[49m\u001B[43m)\u001B[49m  \u001B[38;5;66;03m# uses numpy rng\u001B[39;00m\n\u001B[1;32m    174\u001B[0m     \u001B[38;5;28;01mif\u001B[39;00m noisy_target:\n\u001B[1;32m    175\u001B[0m         _, y_noisy[i] \u001B[38;5;241m=\u001B[39m curve_func()\n",
      "Cell \u001B[0;32mIn[4], line 37\u001B[0m, in \u001B[0;36msample_from_lcbd\u001B[0;34m(n, plot, seq_len)\u001B[0m\n\u001B[1;32m     34\u001B[0m \u001B[38;5;28;01mdef\u001B[39;00m \u001B[38;5;21msample_from_lcbd\u001B[39m(n:np\u001B[38;5;241m.\u001B[39mrandom, plot\u001B[38;5;241m=\u001B[39m\u001B[38;5;28;01mFalse\u001B[39;00m, seq_len\u001B[38;5;241m=\u001B[39m\u001B[38;5;241m100\u001B[39m):\n\u001B[1;32m     35\u001B[0m \u001B[38;5;250m    \u001B[39m\u001B[38;5;124;03m\"\"\"Sample a learning curve from the LCBD dataset.\"\"\"\u001B[39;00m\n\u001B[0;32m---> 37\u001B[0m     \u001B[38;5;28;01mreturn\u001B[39;00m \u001B[43msample\u001B[49m\u001B[43m(\u001B[49m\u001B[43mn\u001B[49m\u001B[43m,\u001B[49m\u001B[43m \u001B[49m\u001B[43mcomponents\u001B[49m\u001B[38;5;241;43m=\u001B[39;49m\u001B[38;5;28;43;01mNone\u001B[39;49;00m\u001B[43m,\u001B[49m\u001B[43m \u001B[49m\u001B[43mdistribution\u001B[49m\u001B[38;5;241;43m=\u001B[39;49m\u001B[38;5;28;43;01mNone\u001B[39;49;00m\u001B[43m,\u001B[49m\u001B[43m \u001B[49m\u001B[43mplot\u001B[49m\u001B[38;5;241;43m=\u001B[39;49m\u001B[43mplot\u001B[49m\u001B[43m)\u001B[49m\n",
      "Cell \u001B[0;32mIn[4], line 57\u001B[0m, in \u001B[0;36msample\u001B[0;34m(rng, components, distribution, var_lnloc, var_lnscale, range_constraint, seq_len, dataset_id, model, plot)\u001B[0m\n\u001B[1;32m     54\u001B[0m \u001B[38;5;28;01mif\u001B[39;00m \u001B[38;5;28mtype\u001B[39m(model) \u001B[38;5;241m==\u001B[39m \u001B[38;5;28mlist\u001B[39m:\n\u001B[1;32m     55\u001B[0m     model \u001B[38;5;241m=\u001B[39m rng\u001B[38;5;241m.\u001B[39mchoice(model)\n\u001B[0;32m---> 57\u001B[0m anchors, means \u001B[38;5;241m=\u001B[39m \u001B[43mget_validation_curve\u001B[49m\u001B[43m(\u001B[49m\u001B[43mdataset_id\u001B[49m\u001B[43m,\u001B[49m\u001B[43m \u001B[49m\u001B[43mmodel\u001B[49m\u001B[43m)\u001B[49m\n\u001B[1;32m     58\u001B[0m means \u001B[38;5;241m=\u001B[39m np\u001B[38;5;241m.\u001B[39marray(means)\n\u001B[1;32m     59\u001B[0m \u001B[38;5;66;03m#change the anchors to be between 0 and 1\u001B[39;00m\n",
      "Cell \u001B[0;32mIn[4], line 12\u001B[0m, in \u001B[0;36mget_validation_curve\u001B[0;34m(dataset_id, model)\u001B[0m\n\u001B[1;32m     10\u001B[0m \u001B[38;5;250m\u001B[39m\u001B[38;5;124;03m\"\"\"Retrieve the validation curve for a given model and dataset.\"\"\"\u001B[39;00m\n\u001B[1;32m     11\u001B[0m \u001B[38;5;28;01mtry\u001B[39;00m:\n\u001B[0;32m---> 12\u001B[0m     anchors, _, scores_valid, _ \u001B[38;5;241m=\u001B[39m \u001B[43mlcdb\u001B[49m\u001B[38;5;241;43m.\u001B[39;49m\u001B[43mget_curve\u001B[49m\u001B[43m(\u001B[49m\u001B[43mdataset_id\u001B[49m\u001B[43m,\u001B[49m\u001B[43m \u001B[49m\u001B[43mmodel\u001B[49m\u001B[43m)\u001B[49m\n\u001B[1;32m     13\u001B[0m     means \u001B[38;5;241m=\u001B[39m [np\u001B[38;5;241m.\u001B[39mmean(sublist) \u001B[38;5;28;01mfor\u001B[39;00m sublist \u001B[38;5;129;01min\u001B[39;00m scores_valid]\n\u001B[1;32m     14\u001B[0m     \u001B[38;5;28;01mreturn\u001B[39;00m anchors, means\n",
      "File \u001B[0;32m~/miniconda3/envs/rp/lib/python3.9/site-packages/lcdb/lcdb.py:623\u001B[0m, in \u001B[0;36mget_curve\u001B[0;34m(dataset, learner, metric)\u001B[0m\n\u001B[1;32m    620\u001B[0m \u001B[38;5;28;01mdef\u001B[39;00m \u001B[38;5;21mget_curve\u001B[39m(dataset, learner, metric \u001B[38;5;241m=\u001B[39m \u001B[38;5;124m\"\u001B[39m\u001B[38;5;124maccuracy\u001B[39m\u001B[38;5;124m\"\u001B[39m):\n\u001B[0;32m--> 623\u001B[0m     \u001B[38;5;28;01mreturn\u001B[39;00m get_curve_from_dataframe(\u001B[43mget_curve_as_dataframe\u001B[49m\u001B[43m(\u001B[49m\u001B[43mdataset\u001B[49m\u001B[43m,\u001B[49m\u001B[43m \u001B[49m\u001B[43mlearner\u001B[49m\u001B[43m,\u001B[49m\u001B[43m \u001B[49m\u001B[43mmetric\u001B[49m\u001B[43m)\u001B[49m)\n",
      "File \u001B[0;32m~/miniconda3/envs/rp/lib/python3.9/site-packages/lcdb/lcdb.py:607\u001B[0m, in \u001B[0;36mget_curve_as_dataframe\u001B[0;34m(dataset, learner, metric)\u001B[0m\n\u001B[1;32m    604\u001B[0m \u001B[38;5;28;01mdef\u001B[39;00m \u001B[38;5;21mget_curve_as_dataframe\u001B[39m(dataset, learner, metric \u001B[38;5;241m=\u001B[39m \u001B[38;5;124m\"\u001B[39m\u001B[38;5;124maccuracy\u001B[39m\u001B[38;5;124m\"\u001B[39m):\n\u001B[1;32m    605\u001B[0m     openmlid \u001B[38;5;241m=\u001B[39m get_openmlid_from_descriptor(dataset)\n\u001B[0;32m--> 607\u001B[0m     df \u001B[38;5;241m=\u001B[39m \u001B[43mget_all_curves\u001B[49m\u001B[43m(\u001B[49m\u001B[43mmetric\u001B[49m\u001B[43m)\u001B[49m\n\u001B[1;32m    608\u001B[0m     df \u001B[38;5;241m=\u001B[39m df[(df[\u001B[38;5;124m\"\u001B[39m\u001B[38;5;124mopenmlid\u001B[39m\u001B[38;5;124m\"\u001B[39m] \u001B[38;5;241m==\u001B[39m openmlid)]\n\u001B[1;32m    609\u001B[0m     \u001B[38;5;28;01mif\u001B[39;00m \u001B[38;5;28mlen\u001B[39m(df) \u001B[38;5;241m==\u001B[39m \u001B[38;5;241m0\u001B[39m:\n",
      "File \u001B[0;32m~/miniconda3/envs/rp/lib/python3.9/site-packages/lcdb/lcdb.py:584\u001B[0m, in \u001B[0;36mget_all_curves\u001B[0;34m(metric)\u001B[0m\n\u001B[1;32m    582\u001B[0m \u001B[38;5;28;01mif\u001B[39;00m \u001B[38;5;129;01mnot\u001B[39;00m metric \u001B[38;5;129;01min\u001B[39;00m supported_metrics:\n\u001B[1;32m    583\u001B[0m     \u001B[38;5;28;01mraise\u001B[39;00m \u001B[38;5;167;01mValueError\u001B[39;00m(\u001B[38;5;124mf\u001B[39m\u001B[38;5;124m\"\u001B[39m\u001B[38;5;124mUnsupported metric \u001B[39m\u001B[38;5;132;01m{\u001B[39;00mmetric\u001B[38;5;132;01m}\u001B[39;00m\u001B[38;5;124m. Supported metrics are \u001B[39m\u001B[38;5;132;01m{\u001B[39;00msupported_metrics\u001B[38;5;132;01m}\u001B[39;00m\u001B[38;5;124m\"\u001B[39m)\n\u001B[0;32m--> 584\u001B[0m \u001B[38;5;28;01mreturn\u001B[39;00m \u001B[43mpd\u001B[49m\u001B[38;5;241;43m.\u001B[39;49m\u001B[43mread_csv\u001B[49m\u001B[43m(\u001B[49m\u001B[43mStringIO\u001B[49m\u001B[43m(\u001B[49m\u001B[43mpkg_resources\u001B[49m\u001B[38;5;241;43m.\u001B[39;49m\u001B[43mread_text\u001B[49m\u001B[43m(\u001B[49m\u001B[38;5;124;43m'\u001B[39;49m\u001B[38;5;124;43mlcdb\u001B[39;49m\u001B[38;5;124;43m'\u001B[39;49m\u001B[43m,\u001B[49m\u001B[43m \u001B[49m\u001B[38;5;124;43mf\u001B[39;49m\u001B[38;5;124;43m'\u001B[39;49m\u001B[38;5;124;43mdatabase-\u001B[39;49m\u001B[38;5;132;43;01m{\u001B[39;49;00m\u001B[43mmetric\u001B[49m\u001B[38;5;132;43;01m}\u001B[39;49;00m\u001B[38;5;124;43m.csv\u001B[39;49m\u001B[38;5;124;43m'\u001B[39;49m\u001B[43m)\u001B[49m\u001B[43m)\u001B[49m\u001B[43m)\u001B[49m\n",
      "File \u001B[0;32m~/miniconda3/envs/rp/lib/python3.9/site-packages/pandas/io/parsers/readers.py:948\u001B[0m, in \u001B[0;36mread_csv\u001B[0;34m(filepath_or_buffer, sep, delimiter, header, names, index_col, usecols, dtype, engine, converters, true_values, false_values, skipinitialspace, skiprows, skipfooter, nrows, na_values, keep_default_na, na_filter, verbose, skip_blank_lines, parse_dates, infer_datetime_format, keep_date_col, date_parser, date_format, dayfirst, cache_dates, iterator, chunksize, compression, thousands, decimal, lineterminator, quotechar, quoting, doublequote, escapechar, comment, encoding, encoding_errors, dialect, on_bad_lines, delim_whitespace, low_memory, memory_map, float_precision, storage_options, dtype_backend)\u001B[0m\n\u001B[1;32m    935\u001B[0m kwds_defaults \u001B[38;5;241m=\u001B[39m _refine_defaults_read(\n\u001B[1;32m    936\u001B[0m     dialect,\n\u001B[1;32m    937\u001B[0m     delimiter,\n\u001B[0;32m   (...)\u001B[0m\n\u001B[1;32m    944\u001B[0m     dtype_backend\u001B[38;5;241m=\u001B[39mdtype_backend,\n\u001B[1;32m    945\u001B[0m )\n\u001B[1;32m    946\u001B[0m kwds\u001B[38;5;241m.\u001B[39mupdate(kwds_defaults)\n\u001B[0;32m--> 948\u001B[0m \u001B[38;5;28;01mreturn\u001B[39;00m \u001B[43m_read\u001B[49m\u001B[43m(\u001B[49m\u001B[43mfilepath_or_buffer\u001B[49m\u001B[43m,\u001B[49m\u001B[43m \u001B[49m\u001B[43mkwds\u001B[49m\u001B[43m)\u001B[49m\n",
      "File \u001B[0;32m~/miniconda3/envs/rp/lib/python3.9/site-packages/pandas/io/parsers/readers.py:617\u001B[0m, in \u001B[0;36m_read\u001B[0;34m(filepath_or_buffer, kwds)\u001B[0m\n\u001B[1;32m    614\u001B[0m     \u001B[38;5;28;01mreturn\u001B[39;00m parser\n\u001B[1;32m    616\u001B[0m \u001B[38;5;28;01mwith\u001B[39;00m parser:\n\u001B[0;32m--> 617\u001B[0m     \u001B[38;5;28;01mreturn\u001B[39;00m \u001B[43mparser\u001B[49m\u001B[38;5;241;43m.\u001B[39;49m\u001B[43mread\u001B[49m\u001B[43m(\u001B[49m\u001B[43mnrows\u001B[49m\u001B[43m)\u001B[49m\n",
      "File \u001B[0;32m~/miniconda3/envs/rp/lib/python3.9/site-packages/pandas/io/parsers/readers.py:1748\u001B[0m, in \u001B[0;36mTextFileReader.read\u001B[0;34m(self, nrows)\u001B[0m\n\u001B[1;32m   1741\u001B[0m nrows \u001B[38;5;241m=\u001B[39m validate_integer(\u001B[38;5;124m\"\u001B[39m\u001B[38;5;124mnrows\u001B[39m\u001B[38;5;124m\"\u001B[39m, nrows)\n\u001B[1;32m   1742\u001B[0m \u001B[38;5;28;01mtry\u001B[39;00m:\n\u001B[1;32m   1743\u001B[0m     \u001B[38;5;66;03m# error: \"ParserBase\" has no attribute \"read\"\u001B[39;00m\n\u001B[1;32m   1744\u001B[0m     (\n\u001B[1;32m   1745\u001B[0m         index,\n\u001B[1;32m   1746\u001B[0m         columns,\n\u001B[1;32m   1747\u001B[0m         col_dict,\n\u001B[0;32m-> 1748\u001B[0m     ) \u001B[38;5;241m=\u001B[39m \u001B[38;5;28;43mself\u001B[39;49m\u001B[38;5;241;43m.\u001B[39;49m\u001B[43m_engine\u001B[49m\u001B[38;5;241;43m.\u001B[39;49m\u001B[43mread\u001B[49m\u001B[43m(\u001B[49m\u001B[43m  \u001B[49m\u001B[38;5;66;43;03m# type: ignore[attr-defined]\u001B[39;49;00m\n\u001B[1;32m   1749\u001B[0m \u001B[43m        \u001B[49m\u001B[43mnrows\u001B[49m\n\u001B[1;32m   1750\u001B[0m \u001B[43m    \u001B[49m\u001B[43m)\u001B[49m\n\u001B[1;32m   1751\u001B[0m \u001B[38;5;28;01mexcept\u001B[39;00m \u001B[38;5;167;01mException\u001B[39;00m:\n\u001B[1;32m   1752\u001B[0m     \u001B[38;5;28mself\u001B[39m\u001B[38;5;241m.\u001B[39mclose()\n",
      "File \u001B[0;32m~/miniconda3/envs/rp/lib/python3.9/site-packages/pandas/io/parsers/c_parser_wrapper.py:234\u001B[0m, in \u001B[0;36mCParserWrapper.read\u001B[0;34m(self, nrows)\u001B[0m\n\u001B[1;32m    232\u001B[0m \u001B[38;5;28;01mtry\u001B[39;00m:\n\u001B[1;32m    233\u001B[0m     \u001B[38;5;28;01mif\u001B[39;00m \u001B[38;5;28mself\u001B[39m\u001B[38;5;241m.\u001B[39mlow_memory:\n\u001B[0;32m--> 234\u001B[0m         chunks \u001B[38;5;241m=\u001B[39m \u001B[38;5;28;43mself\u001B[39;49m\u001B[38;5;241;43m.\u001B[39;49m\u001B[43m_reader\u001B[49m\u001B[38;5;241;43m.\u001B[39;49m\u001B[43mread_low_memory\u001B[49m\u001B[43m(\u001B[49m\u001B[43mnrows\u001B[49m\u001B[43m)\u001B[49m\n\u001B[1;32m    235\u001B[0m         \u001B[38;5;66;03m# destructive to chunks\u001B[39;00m\n\u001B[1;32m    236\u001B[0m         data \u001B[38;5;241m=\u001B[39m _concatenate_chunks(chunks)\n",
      "\u001B[0;31mKeyboardInterrupt\u001B[0m: "
     ]
    }
   ],
   "source": [
    "# example of a batch\n",
    "X, Y, y_noise = get_batch_func(batch_size=100, seq_len=100, num_features=1)\n",
    "print(X.shape, Y.shape, y_noise.shape)"
   ]
  },
  {
   "cell_type": "code",
   "execution_count": null,
   "id": "091def9b-dd4c-4e7d-8550-5dc016bc3893",
   "metadata": {
    "ExecuteTime": {
     "start_time": "2023-11-30T04:37:46.997257Z",
     "end_time": "2023-11-30T04:37:47.057318Z"
    }
   },
   "outputs": [],
   "source": [
    "# Main function to train a PFN model\n",
    "lcpfn.train_lcpfn"
   ]
  },
  {
   "cell_type": "code",
   "execution_count": null,
   "id": "c18b2d21-1819-425a-aeba-9b3871f5900a",
   "metadata": {
    "ExecuteTime": {
     "start_time": "2023-11-30T04:37:47.040322Z",
     "end_time": "2023-11-30T04:37:59.413043Z"
    }
   },
   "outputs": [],
   "source": [
    "# train a small model for 3 epochs\n",
    "\n",
    "result = lcpfn.train_lcpfn(get_batch_func=get_batch_func, \n",
    "                          seq_len=100,\n",
    "                         emsize=256,\n",
    "                         nlayers=3,\n",
    "                         num_borders=1000,\n",
    "                         lr=0.001,\n",
    "                         batch_size=10,\n",
    "                         epochs=3)"
   ]
  },
  {
   "cell_type": "code",
   "execution_count": null,
   "id": "4584f7a0-b5d9-4623-a7bd-987da27558aa",
   "metadata": {
    "ExecuteTime": {
     "start_time": "2023-11-30T04:37:59.413043Z",
     "end_time": "2023-11-30T04:37:59.586991Z"
    }
   },
   "outputs": [
    {
     "ename": "NameError",
     "evalue": "name 'result' is not defined",
     "output_type": "error",
     "traceback": [
      "\u001B[0;31m---------------------------------------------------------------------------\u001B[0m",
      "\u001B[0;31mNameError\u001B[0m                                 Traceback (most recent call last)",
      "Cell \u001B[0;32mIn[1], line 3\u001B[0m\n\u001B[1;32m      1\u001B[0m \u001B[38;5;66;03m# Get the trained model\u001B[39;00m\n\u001B[0;32m----> 3\u001B[0m model \u001B[38;5;241m=\u001B[39m \u001B[43mresult\u001B[49m[\u001B[38;5;241m2\u001B[39m]\n\u001B[1;32m      4\u001B[0m \u001B[38;5;28mprint\u001B[39m(model)\n",
      "\u001B[0;31mNameError\u001B[0m: name 'result' is not defined"
     ]
    }
   ],
   "source": [
    "# Get the trained model\n",
    "\n",
    "model = result[2]\n",
    "print(model)"
   ]
  },
  {
   "cell_type": "code",
   "execution_count": null,
   "outputs": [],
   "source": [],
   "metadata": {
    "collapsed": false
   }
  }
 ],
 "metadata": {
  "kernelspec": {
   "name": "python3",
   "language": "python",
   "display_name": "Python 3 (ipykernel)"
  },
  "language_info": {
   "codemirror_mode": {
    "name": "ipython",
    "version": 3
   },
   "file_extension": ".py",
   "mimetype": "text/x-python",
   "name": "python",
   "nbconvert_exporter": "python",
   "pygments_lexer": "ipython3",
   "version": "3.10.11"
  }
 },
 "nbformat": 4,
 "nbformat_minor": 5
}
